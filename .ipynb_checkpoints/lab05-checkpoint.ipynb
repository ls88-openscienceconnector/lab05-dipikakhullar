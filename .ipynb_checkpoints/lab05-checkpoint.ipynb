{
 "cells": [
  {
   "cell_type": "markdown",
   "metadata": {},
   "source": [
    "# L&S 88 - Lab 5 - Data Visualization with `matplotlib.pyplot`\n",
    "\n",
    "_Data and original analysis from [Stuart Geiger](https://github.com/staeiou/wiki-pageview-notebook), adapted with added analysis by Chris Pyles_\n",
    "\n",
    "In this lab, we'll cover the basics of one of the most important aspects of data science: data visualization. By this point, you should have some familarity with data visualization from the builtin `Table` methods that allow you to create plots, histograms, and the like, but today we'll cover the tool that underlies all of those: `pyplot`. The `pyplot` library, a subset of a larger plotting library called `matplotlib`, is a very powerful (if unintiuitive) tool that allows you to create robust data visualizations in Python. While there are some other tools that can be used in conjunction with `pyplot` and which make the code easier to write and understand (e.g. `seaborn`, `altair`), we won't be covering those in this lesson.\n",
    "\n",
    "**Before you continue in this lab, please take time to complete the [`pyplot` tutorial](pyplot.ipynb).** This will give you the basic building blocks to understand how to answer the questions in this lab. If you find yourself struggling with a plot, post on Piazza or _Google the function_. We cannot stress enough how helpful this is. For example, if you didn't know how to choose where the $x$ ticks fall on a scatter plot, you should start by googling \"pyplot xticks\" and go from there."
   ]
  },
  {
   "cell_type": "code",
   "execution_count": 3,
   "metadata": {},
   "outputs": [
    {
     "name": "stdout",
     "output_type": "stream",
     "text": [
      "Collecting datascience\n",
      "  Downloading https://files.pythonhosted.org/packages/8b/4e/38f2c4d172c640a9099d609c51e3fbc5df0889a221d50a932fee52bd25bf/datascience-0.10.6.tar.gz (40kB)\n",
      "\u001b[K    100% |████████████████████████████████| 40kB 2.9MB/s ta 0:00:01\n",
      "\u001b[?25hCollecting folium==0.2.1 (from datascience)\n",
      "  Downloading https://files.pythonhosted.org/packages/72/dd/75ced7437bfa7cb9a88b96ee0177953062803c3b4cde411a97d98c35adaf/folium-0.2.1.tar.gz (69kB)\n",
      "\u001b[K    100% |████████████████████████████████| 71kB 1.8MB/s ta 0:00:01\n",
      "\u001b[?25hRequirement already satisfied: sphinx in /anaconda3/lib/python3.6/site-packages (from datascience)\n",
      "Requirement already satisfied: setuptools in /anaconda3/lib/python3.6/site-packages (from datascience)\n",
      "Requirement already satisfied: pytest in /anaconda3/lib/python3.6/site-packages (from datascience)\n",
      "Collecting coverage==3.7.1 (from datascience)\n",
      "  Downloading https://files.pythonhosted.org/packages/09/4f/89b06c7fdc09687bca507dc411c342556ef9c5a3b26756137a4878ff19bf/coverage-3.7.1.tar.gz (284kB)\n",
      "\u001b[K    100% |████████████████████████████████| 286kB 2.2MB/s ta 0:00:01\n",
      "\u001b[?25hCollecting coveralls==0.5 (from datascience)\n",
      "  Downloading https://files.pythonhosted.org/packages/7d/16/db9bcd676fea5cc45980e24ce66c77f348cf3c750d9c2c7bebd8b8792bf1/coveralls-0.5.zip\n",
      "Requirement already satisfied: Jinja2 in /anaconda3/lib/python3.6/site-packages (from folium==0.2.1->datascience)\n",
      "Requirement already satisfied: six>=1.5 in /anaconda3/lib/python3.6/site-packages (from sphinx->datascience)\n",
      "Requirement already satisfied: Pygments>=2.0 in /anaconda3/lib/python3.6/site-packages (from sphinx->datascience)\n",
      "Requirement already satisfied: docutils>=0.11 in /anaconda3/lib/python3.6/site-packages (from sphinx->datascience)\n",
      "Requirement already satisfied: snowballstemmer>=1.1 in /anaconda3/lib/python3.6/site-packages (from sphinx->datascience)\n",
      "Requirement already satisfied: babel!=2.0,>=1.3 in /anaconda3/lib/python3.6/site-packages (from sphinx->datascience)\n",
      "Requirement already satisfied: alabaster<0.8,>=0.7 in /anaconda3/lib/python3.6/site-packages (from sphinx->datascience)\n",
      "Requirement already satisfied: imagesize in /anaconda3/lib/python3.6/site-packages (from sphinx->datascience)\n",
      "Requirement already satisfied: requests>=2.0.0 in /anaconda3/lib/python3.6/site-packages (from sphinx->datascience)\n",
      "Requirement already satisfied: sphinxcontrib-websupport in /anaconda3/lib/python3.6/site-packages (from sphinx->datascience)\n",
      "Requirement already satisfied: py>=1.4.33 in /anaconda3/lib/python3.6/site-packages (from pytest->datascience)\n",
      "Requirement already satisfied: PyYAML>=3.10 in /anaconda3/lib/python3.6/site-packages (from coveralls==0.5->datascience)\n",
      "Collecting docopt>=0.6.1 (from coveralls==0.5->datascience)\n",
      "  Downloading https://files.pythonhosted.org/packages/a2/55/8f8cab2afd404cf578136ef2cc5dfb50baa1761b68c9da1fb1e4eed343c9/docopt-0.6.2.tar.gz\n",
      "Requirement already satisfied: MarkupSafe>=0.23 in /anaconda3/lib/python3.6/site-packages (from Jinja2->folium==0.2.1->datascience)\n",
      "Requirement already satisfied: pytz>=0a in /anaconda3/lib/python3.6/site-packages (from babel!=2.0,>=1.3->sphinx->datascience)\n",
      "Requirement already satisfied: chardet<3.1.0,>=3.0.2 in /anaconda3/lib/python3.6/site-packages (from requests>=2.0.0->sphinx->datascience)\n",
      "Requirement already satisfied: idna<2.7,>=2.5 in /anaconda3/lib/python3.6/site-packages (from requests>=2.0.0->sphinx->datascience)\n",
      "Requirement already satisfied: urllib3<1.23,>=1.21.1 in /anaconda3/lib/python3.6/site-packages (from requests>=2.0.0->sphinx->datascience)\n",
      "Requirement already satisfied: certifi>=2017.4.17 in /anaconda3/lib/python3.6/site-packages (from requests>=2.0.0->sphinx->datascience)\n",
      "Building wheels for collected packages: datascience, folium, coverage, coveralls, docopt\n",
      "  Running setup.py bdist_wheel for datascience ... \u001b[?25ldone\n",
      "\u001b[?25h  Stored in directory: /Users/DipikaKhullar/Library/Caches/pip/wheels/da/24/ce/c7c52ff09b932c681f314c3c0afc9117964c444ec393a5d8b9\n",
      "  Running setup.py bdist_wheel for folium ... \u001b[?25ldone\n",
      "\u001b[?25h  Stored in directory: /Users/DipikaKhullar/Library/Caches/pip/wheels/b8/09/f0/52d2ef419c2aaf4fb149f92a33e0008bdce7ae816f0dd8f0c5\n",
      "  Running setup.py bdist_wheel for coverage ... \u001b[?25ldone\n",
      "\u001b[?25h  Stored in directory: /Users/DipikaKhullar/Library/Caches/pip/wheels/68/58/66/f1fc9afad272df0df0fa38cdef34ee2d5d8d6a85f4eb5acab5\n",
      "  Running setup.py bdist_wheel for coveralls ... \u001b[?25ldone\n",
      "\u001b[?25h  Stored in directory: /Users/DipikaKhullar/Library/Caches/pip/wheels/50/54/3b/b62b1288fa80808256abccca3b8fff97ed694404c4f5fe2646\n",
      "  Running setup.py bdist_wheel for docopt ... \u001b[?25ldone\n",
      "\u001b[?25h  Stored in directory: /Users/DipikaKhullar/Library/Caches/pip/wheels/9b/04/dd/7daf4150b6d9b12949298737de9431a324d4b797ffd63f526e\n",
      "Successfully built datascience folium coverage coveralls docopt\n",
      "Installing collected packages: folium, coverage, docopt, coveralls, datascience\n",
      "Successfully installed coverage-3.7.1 coveralls-0.5 datascience-0.10.6 docopt-0.6.2 folium-0.2.1\n",
      "\u001b[33mYou are using pip version 9.0.1, however version 19.0.3 is available.\n",
      "You should consider upgrading via the 'pip install --upgrade pip' command.\u001b[0m\n"
     ]
    }
   ],
   "source": [
    "!pip install datascience"
   ]
  },
  {
   "cell_type": "code",
   "execution_count": 14,
   "metadata": {},
   "outputs": [],
   "source": [
    "from datascience import *\n",
    "import datetime as dt\n",
    "import numpy as np\n",
    "import pandas as pd\n",
    "\n",
    "# the standard pyplot abbreviation is plt\n",
    "import matplotlib.pyplot as plt\n",
    "\n",
    "# this sets the colorscheme and style of the plots create in this notebook\n",
    "plt.style.use('fivethirtyeight')\n",
    "\n",
    "# this Jupyter magic command tells IPython to display the plots right after they're generated\n",
    "%matplotlib inline"
   ]
  },
  {
   "cell_type": "markdown",
   "metadata": {},
   "source": [
    "In this lab, we'll be working with a data set generated by Stuart Geiger on the number of pageviews for the Wikipedia pages of members of the U.S. Congress. If you're interested, the code that was used to generate the data sets loaded below and the original analysis are hosted [on Github](https://github.com/staeiou/wiki-pageview-notebook). The `house` and `senate` tables below contain one column for each member of the House and Senate, respectively, and one row for each month from January 2016 to December 2018. Each cell contains the number of pageviews for that member of Congress in the given month. We'll be looking at trends in these pageviews across and within houses of Congress, and for individual legislators. The goal of this lab is to familiarize you with the `matplotlib.pyplot` library for creating data visualizations."
   ]
  },
  {
   "cell_type": "code",
   "execution_count": 46,
   "metadata": {},
   "outputs": [
    {
     "data": {
      "text/html": [
       "<table border=\"1\" class=\"dataframe\">\n",
       "    <thead>\n",
       "        <tr>\n",
       "            <th>Month</th> <th>Adam_Kinzinger</th> <th>Adam_Schiff</th> <th>Adam_Smith_(politician)</th> <th>Adrian_Smith_(politician)</th> <th>Adriano_Espaillat</th> <th>Al_Green_(politician)</th> <th>Al_Lawson</th> <th>Alan_Lowenthal</th> <th>Albio_Sires</th> <th>Alcee_Hastings</th> <th>Alex_Mooney</th> <th>Alma_Adams</th> <th>Ami_Bera</th> <th>André_Carson</th> <th>Andy_Barr_(U.S._politician)</th> <th>Andy_Biggs_(politician)</th> <th>Andy_Harris</th> <th>Ann_McLane_Kuster</th> <th>Ann_Wagner</th> <th>Anna_Eshoo</th> <th>Anthony_G._Brown</th> <th>Austin_Scott_(politician)</th> <th>Barbara_Comstock</th> <th>Barbara_Lee</th> <th>Barry_Loudermilk</th> <th>Ben_Luján</th> <th>Bennie_Thompson</th> <th>Beto_O'Rourke</th> <th>Betty_McCollum</th> <th>Bill_Flores</th> <th>Bill_Foster_(politician)</th> <th>Bill_Huizenga</th> <th>Bill_Johnson_(Ohio_politician)</th> <th>Bill_Keating_(politician)</th> <th>Bill_Pascrell</th> <th>Bill_Posey</th> <th>Bill_Shuster</th> <th>Billy_Long</th> <th>Blaine_Luetkemeyer</th> <th>Blake_Farenthold</th> <th>Bob_Brady</th> <th>Bob_Gibbs</th> <th>Bob_Goodlatte</th> <th>Bob_Latta</th> <th>Bobby_Rush</th> <th>Bobby_Scott_(politician)</th> <th>Bonnie_Watson_Coleman</th> <th>Brad_Schneider</th> <th>Brad_Sherman</th> <th>Brad_Wenstrup</th> <th>Bradley_Byrne</th> <th>Brenda_Lawrence</th> <th>Brendan_F._Boyle</th> <th>Brett_Guthrie</th> <th>Brian_Babin</th> <th>Brian_Fitzpatrick_(American_politician)</th> <th>Brian_Higgins</th> <th>Brian_Mast</th> <th>Bruce_Poliquin</th> <th>Bruce_Westerman</th> <th>Buddy_Carter</th> <th>Carlos_Curbelo_(politician)</th> <th>Carol_Shea-Porter</th> <th>Carolyn_Maloney</th> <th>Cathy_McMorris_Rodgers</th> <th>Cedric_Richmond</th> <th>Charlie_Crist</th> <th>Charlie_Dent</th> <th>Chellie_Pingree</th> <th>Cheri_Bustos</th> <th>Chris_Collins_(U.S._politician)</th> <th>Chris_Smith_(New_Jersey_politician)</th> <th>Chris_Stewart_(politician)</th> <th>Chuck_Fleischmann</th> <th>Claudia_Tenney</th> <th>Clay_Higgins</th> <th>Colleen_Hanabusa</th> <th>Collin_Peterson</th> <th>Dan_Donovan_(politician)</th> <th>Dan_Kildee</th> <th>Dan_Lipinski</th> <th>Dan_Newhouse</th> <th>Dana_Rohrabacher</th> <th>Daniel_Webster_(Florida_politician)</th> <th>Danny_K._Davis</th> <th>Darin_LaHood</th> <th>Darrell_Issa</th> <th>Darren_Soto</th> <th>Dave_Brat</th> <th>Dave_Loebsack</th> <th>Dave_Reichert</th> <th>David_Cicilline</th> <th>David_Joyce_(politician)</th> <th>David_Kustoff</th> <th>David_McKinley</th> <th>David_Price_(U.S._politician)</th> <th>David_Rouzer</th> <th>David_Schweikert</th> <th>David_Scott_(Georgia_politician)</th> <th>David_Trott</th> <th>David_Valadao</th> <th>David_Young_(Iowa_politician)</th> <th>Debbie_Dingell</th> <th>Debbie_Wasserman_Schultz</th> <th>Dennis_Heck</th> <th>Dennis_Ross</th> <th>Derek_Kilmer</th> <th>Devin_Nunes</th> <th>Diana_DeGette</th> <th>Diane_Black</th> <th>Dina_Titus</th> <th>Don_Bacon_(politician)</th> <th>Don_Beyer</th> <th>Don_Young</th> <th>Donald_McEachin</th> <th>Donald_Norcross</th> <th>Donald_Payne,_Jr.</th> <th>Doris_Matsui</th> <th>Doug_Collins_(politician)</th> <th>Doug_LaMalfa</th> <th>Doug_Lamborn</th> <th>Drew_Ferguson_(politician)</th> <th>Duncan_D._Hunter</th> <th>Dutch_Ruppersberger</th> <th>Dwight_Evans_(politician)</th> <th>Earl_Blumenauer</th> <th>Ed_Perlmutter</th> <th>Ed_Royce</th> <th>Eddie_Johnson</th> <th>Elijah_Cummings</th> <th>Eliot_Engel</th> <th>Elise_Stefanik</th> <th>Elizabeth_Esty</th> <th>Emanuel_Cleaver</th> <th>Eric_Swalwell</th> <th>Erik_Paulsen</th> <th>Evan_Jenkins_(politician)</th> <th>Filemon_Vela,_Jr.</th> <th>Francis_Rooney</th> <th>Frank_LoBiondo</th> <th>Frank_Lucas_(Oklahoma_politician)</th> <th>Frank_Pallone</th> <th>Fred_Upton</th> <th>Frederica_Wilson</th> <th>French_Hill_(politician)</th> <th>G._K._Butterfield</th> <th>Garret_Graves</th> <th>Gary_Palmer_(politician)</th> <th>Gene_Green</th> <th>George_Holding</th> <th>Gerry_Connolly</th> <th>Glenn_Grothman</th> <th>Glenn_Thompson_(politician)</th> <th>Grace_Meng</th> <th>Grace_Napolitano</th> <th>Greg_Walden</th> <th>Gregg_Harper</th> <th>Gregory_Meeks</th> <th>Gus_Bilirakis</th> <th>Gwen_Moore</th> <th>Hakeem_Jeffries</th> <th>Hal_Rogers</th> <th>Hank_Johnson</th> <th>Henry_Cuellar</th> <th>Ileana_Ros-Lehtinen</th> <th>Jack_Bergman</th> <th>Jackie_Speier</th> <th>Jackie_Walorski</th> <th>Jacky_Rosen</th> <th>Jaime_Herrera_Beutler</th> <th>James_Comer_(politician)</th> <th>Jamie_Raskin</th> <th>Jan_Schakowsky</th> <th>Jared_Huffman</th> <th>Jared_Polis</th> <th>Jason_Chaffetz</th> <th>Jason_Lewis_(congressman)</th> <th>Jason_T._Smith</th> <th>Jeb_Hensarling</th> <th>Jeff_Denham</th> <th>Jeff_Duncan_(politician)</th> <th>Jeff_Fortenberry</th> <th>Jerrold_Nadler</th> <th>Jerry_McNerney</th> <th>Jim_Banks</th> <th>Jim_Bridenstine</th> <th>Jim_Clyburn</th> <th>Jim_Cooper</th> <th>Jim_Costa</th> <th>Jim_Himes</th> <th>Jim_Jordan_(U.S._politician)</th> <th>Jim_Langevin</th> <th>Jim_McGovern_(U.S._politician)</th> <th>Jim_Renacci</th> <th>Jim_Sensenbrenner</th> <th>Jimmy_Duncan_(U.S._politician)</th> <th>Jimmy_Panetta</th> <th>Joaquín_Castro</th> <th>Jodey_Arrington</th> <th>Jody_Hice</th> <th>Joe_Barton</th> <th>Joe_Courtney_(politician)</th> <th>Joe_Kennedy</th> <th>Joe_Wilson_(U.S._politician)</th> <th>John_B._Larson</th> <th>John_Carter_(Texas_politician)</th> <th>John_Conyers</th> <th>John_Culberson</th> <th>John_Delaney</th> <th>John_Faso</th> <th>John_Garamendi</th> <th>John_Katko</th> <th>John_Lewis_(civil_rights_leader)</th> <th>John_Moolenaar</th> <th>John_Ratcliffe_(American_politician)</th> <th>John_Rutherford_(Florida_politician)</th> <th>John_Sarbanes</th> <th>John_Shimkus</th> <th>John_Yarmuth</th> <th>Joseph_Crowley</th> <th>Josh_Gottheimer</th> <th>José_Serrano</th> <th>Joyce_Beatty</th> <th>Juan_Vargas</th> <th>Judy_Chu</th> <th>Julia_Brownley</th> <th>Justin_Amash</th> <th>Karen_Bass</th> <th>Katherine_Clark</th> <th>Kathleen_Rice</th> <th>Kathy_Castor</th> <th>Kay_Granger</th> <th>Keith_Ellison</th> <th>Keith_Rothfus</th> <th>Ken_Buck</th> <th>Ken_Calvert</th> <th>Kenny_Marchant</th> <th>Kevin_Brady</th> <th>Kevin_Cramer</th> <th>Kevin_McCarthy_(California_politician)</th> <th>Kevin_Yoder</th> <th>Kristi_Noem</th> <th>Kurt_Schrader</th> <th>Kyrsten_Sinema</th> <th>Lamar_S._Smith</th> <th>Larry_Bucshon</th> <th>Lee_Zeldin</th> <th>Leonard_Lance</th> <th>Linda_Sánchez</th> <th>Lisa_Blunt_Rochester</th> <th>Liz_Cheney</th> <th>Lloyd_Doggett</th> <th>Lloyd_Smucker</th> <th>Lois_Frankel</th> <th>Lou_Barletta</th> <th>Lou_Correa</th> <th>Louie_Gohmert</th> <th>Louise_Slaughter</th> <th>Lucille_Roybal-Allard</th> <th>Luis_Gutiérrez</th> <th>Luke_Messer</th> <th>Lynn_Jenkins</th> <th>Mac_Thornberry</th> <th>Marc_Veasey</th> <th>Marcia_Fudge</th> <th>Marcy_Kaptur</th> <th>Mario_Díaz-Balart</th> <th>Mark_Amodei</th> <th>Mark_DeSaulnier</th> <th>Mark_Meadows_(North_Carolina_politician)</th> <th>Mark_Pocan</th> <th>Mark_Sanford</th> <th>Mark_Takano</th> <th>Mark_Walker_(North_Carolina_politician)</th> <th>Markwayne_Mullin</th> <th>Marsha_Blackburn</th> <th>Martha_McSally</th> <th>Martha_Roby</th> <th>Matt_Cartwright</th> <th>Matt_Gaetz</th> <th>Maxine_Waters</th> <th>Mia_Love</th> <th>Michael_Burgess</th> <th>Michael_Doyle</th> <th>Michael_McCaul</th> <th>Michelle_Lujan_Grisham</th> <th>Mike_Bishop_(politician)</th> <th>Mike_Bost</th> <th>Mike_Capuano</th> <th>Mike_Coffman</th> <th>Mike_Conaway</th> <th>Mike_Gallagher_(American_politician)</th> <th>Mike_Johnson_(Louisiana_politician)</th> <th>Mike_Kelly_(Pennsylvania_politician)</th> <th>Mike_Quigley_(politician)</th> <th>Mike_Rogers</th> <th>Mike_Simpson</th> <th>Mike_Thompson_(California_politician)</th> <th>Mike_Turner</th> <th>Mimi_Walters</th> <th>Mo_Brooks</th> <th>Morgan_Griffith</th> <th>Nancy_Pelosi</th> <th>Nanette_Barragán</th> <th>Neal_Dunn</th> <th>Niki_Tsongas</th> <th>Nita_Lowey</th> <th>Norma_Torres</th> <th>Nydia_Velázquez</th> <th>Pat_Meehan</th> <th>Pat_Tiberi</th> <th>Patrick_McHenry</th> <th>Paul_Cook_(politician)</th> <th>Paul_Gosar</th> <th>Paul_Mitchell_(politician)</th> <th>Paul_Ryan</th> <th>Paul_Tonko</th> <th>Pete_Aguilar</th> <th>Pete_Olson</th> <th>Pete_Sessions</th> <th>Pete_Visclosky</th> <th>Peter_DeFazio</th> <th>Peter_King</th> <th>Peter_Roskam</th> <th>Peter_Welch</th> <th>Phil_Roe_(politician)</th> <th>Pramila_Jayapal</th> <th>Raja_Krishnamoorthi</th> <th>Ralph_Abraham_(politician)</th> <th>Randy_Hultgren</th> <th>Randy_Weber</th> <th>Raul_Ruiz_(politician)</th> <th>Raúl_Grijalva</th> <th>Raúl_Labrador</th> <th>Richard_Hudson_(U.S._politician)</th> <th>Richard_Neal</th> <th>Rick_Crawford_(politician)</th> <th>Rick_Larsen</th> <th>Rick_Nolan</th> <th>Rick_W._Allen</th> <th>Ro_Khanna</th> <th>Rob_Bishop</th> <th>Rob_Wittman</th> <th>Rob_Woodall</th> <th>Robert_Aderholt</th> <th>Robert_Pittenger</th> <th>Robin_Kelly</th> <th>Rod_Blum</th> <th>Rodney_Davis</th> <th>Rodney_Frelinghuysen</th> <th>Roger_Marshall_(politician)</th> <th>Roger_Williams_(U.S._politician)</th> <th>Ron_DeSantis</th> <th>Ron_Kind</th> <th>Rosa_DeLauro</th> <th>Ruben_Gallego</th> <th>Ruben_Kihuen</th> <th>Ryan_Costello</th> <th>Salud_Carbajal</th> <th>Sam_Graves</th> <th>Sam_Johnson</th> <th>Sander_Levin</th> <th>Sanford_Bishop</th> <th>Scott_DesJarlais</th> <th>Scott_Perry_(politician)</th> <th>Scott_Peters_(politician)</th> <th>Scott_Taylor_(politician)</th> <th>Scott_Tipton</th> <th>Sean_Duffy</th> <th>Sean_Patrick_Maloney</th> <th>Seth_Moulton</th> <th>Sheila_Jackson_Lee</th> <th>Steny_Hoyer</th> <th>Stephanie_Murphy</th> <th>Stephen_F._Lynch</th> <th>Steve_Chabot</th> <th>Steve_Cohen</th> <th>Steve_King</th> <th>Steve_Knight_(politician)</th> <th>Steve_Pearce_(politician)</th> <th>Steve_Russell_(politician)</th> <th>Steve_Scalise</th> <th>Steve_Stivers</th> <th>Steve_Womack</th> <th>Steven_Palazzo</th> <th>Susan_Brooks</th> <th>Susan_Davis_(politician)</th> <th>Suzan_DelBene</th> <th>Suzanne_Bonamici</th> <th>Ted_Budd</th> <th>Ted_Deutch</th> <th>Ted_Lieu</th> <th>Ted_Poe</th> <th>Ted_Yoho</th> <th>Terri_Sewell</th> <th>Thomas_Garrett,_Jr.</th> <th>Thomas_Massie</th> <th>Thomas_Suozzi</th> <th>Tim_Ryan_(politician)</th> <th>Tim_Walberg</th> <th>Tim_Walz</th> <th>Timothy_F._Murphy</th> <th>Todd_Rokita</th> <th>Tom_Cole</th> <th>Tom_Emmer</th> <th>Tom_Graves</th> <th>Tom_MacArthur</th> <th>Tom_Marino</th> <th>Tom_McClintock</th> <th>Tom_O'Halleran</th> <th>Tom_Price_(U.S._politician)</th> <th>Tom_Reed_(politician)</th> <th>Tom_Rice</th> <th>Tom_Rooney_(politician)</th> <th>Tony_Cárdenas</th> <th>Trent_Franks</th> <th>Trent_Kelly</th> <th>Trey_Gowdy</th> <th>Trey_Hollingsworth</th> <th>Tulsi_Gabbard</th> <th>Val_Demings</th> <th>Vern_Buchanan</th> <th>Vicente_González_(politician)</th> <th>Vicky_Hartzler</th> <th>Virginia_Foxx</th> <th>Walter_Jones</th> <th>Warren_Davidson</th> <th>Will_Hurd</th> <th>William_Clay</th> <th>Yvette_Clarke</th> <th>Zoe_Lofgren</th>\n",
       "        </tr>\n",
       "    </thead>\n",
       "    <tbody>\n",
       "        <tr>\n",
       "            <td>2016-01</td> <td>8169          </td> <td>4703       </td> <td>2587                   </td> <td>1187                     </td> <td>1000             </td> <td>2568                 </td> <td>44       </td> <td>1550          </td> <td>1791       </td> <td>8234          </td> <td>2232       </td> <td>2188      </td> <td>5225    </td> <td>6763        </td> <td>1551                       </td> <td>401                    </td> <td>891        </td> <td>1905             </td> <td>2369      </td> <td>3468      </td> <td>3887            </td> <td>1202                     </td> <td>3297            </td> <td>6280       </td> <td>1649            </td> <td>230      </td> <td>2324           </td> <td>3738         </td> <td>1788          </td> <td>1979       </td> <td>1544                    </td> <td>1510         </td> <td>1261                          </td> <td>1293                     </td> <td>1814         </td> <td>1451      </td> <td>1987        </td> <td>1302      </td> <td>1433              </td> <td>1964            </td> <td>2422     </td> <td>1266     </td> <td>2755         </td> <td>1196     </td> <td>8683      </td> <td>0                       </td> <td>2261                 </td> <td>1610          </td> <td>3386        </td> <td>1454         </td> <td>2379         </td> <td>2321           </td> <td>600             </td> <td>1247         </td> <td>3027       </td> <td>0                                      </td> <td>2040         </td> <td>0         </td> <td>2366          </td> <td>1271           </td> <td>1535        </td> <td>3155                       </td> <td>1285             </td> <td>2819           </td> <td>5317                  </td> <td>2517           </td> <td>15649        </td> <td>2422        </td> <td>2865           </td> <td>2050        </td> <td>1519                           </td> <td>3127                               </td> <td>1867                      </td> <td>1232             </td> <td>718           </td> <td>0           </td> <td>1994            </td> <td>2684           </td> <td>1556                    </td> <td>5982      </td> <td>1915        </td> <td>1335        </td> <td>4618            </td> <td>3926                               </td> <td>2262          </td> <td>2986        </td> <td>12904       </td> <td>858        </td> <td>9447     </td> <td>2004         </td> <td>2840         </td> <td>3828           </td> <td>1481                    </td> <td>0            </td> <td>1356          </td> <td>1651                         </td> <td>1378        </td> <td>2369            </td> <td>1603                            </td> <td>815        </td> <td>1988         </td> <td>237                          </td> <td>5379          </td> <td>61537                   </td> <td>1335       </td> <td>7700       </td> <td>2352        </td> <td>2461       </td> <td>2640         </td> <td>2466       </td> <td>2153      </td> <td>0                     </td> <td>3660     </td> <td>5494     </td> <td>57             </td> <td>2096           </td> <td>1374             </td> <td>2267        </td> <td>1359                     </td> <td>1841        </td> <td>1485        </td> <td>0                         </td> <td>5761            </td> <td>2012               </td> <td>0                        </td> <td>2342           </td> <td>1423         </td> <td>4045    </td> <td>174          </td> <td>6944           </td> <td>3147       </td> <td>6766          </td> <td>2097          </td> <td>2266           </td> <td>3821         </td> <td>2068        </td> <td>1583                     </td> <td>1267             </td> <td>1838          </td> <td>1660          </td> <td>738                              </td> <td>2430         </td> <td>3488      </td> <td>5942            </td> <td>1499                    </td> <td>9858             </td> <td>1399         </td> <td>1750                    </td> <td>2091      </td> <td>1362          </td> <td>2299          </td> <td>1692          </td> <td>1125                       </td> <td>3240      </td> <td>1909            </td> <td>5383       </td> <td>2391        </td> <td>2044         </td> <td>1749         </td> <td>2432      </td> <td>2876           </td> <td>2218      </td> <td>11448       </td> <td>2276         </td> <td>7382               </td> <td>0           </td> <td>6640         </td> <td>1611           </td> <td>0          </td> <td>2643                 </td> <td>842                     </td> <td>1674        </td> <td>2874          </td> <td>2403         </td> <td>5343       </td> <td>9893          </td> <td>0                        </td> <td>1283          </td> <td>1796          </td> <td>1960       </td> <td>1669                    </td> <td>1474            </td> <td>2980          </td> <td>1672          </td> <td>769      </td> <td>1976           </td> <td>4308       </td> <td>3663      </td> <td>1961     </td> <td>2589     </td> <td>7983                        </td> <td>447         </td> <td>2110                          </td> <td>1581       </td> <td>4054             </td> <td>1704                          </td> <td>40           </td> <td>16513         </td> <td>672            </td> <td>1447     </td> <td>2800      </td> <td>1358                     </td> <td>621        </td> <td>13763                       </td> <td>1516          </td> <td>1138                          </td> <td>12309       </td> <td>3046          </td> <td>636         </td> <td>1135     </td> <td>4355          </td> <td>1874      </td> <td>173                             </td> <td>1204          </td> <td>1615                                </td> <td>0                                   </td> <td>2418         </td> <td>2238        </td> <td>1885        </td> <td>2023          </td> <td>1197           </td> <td>205         </td> <td>1879        </td> <td>2448       </td> <td>4352    </td> <td>1977          </td> <td>9124        </td> <td>2843      </td> <td>3682           </td> <td>2952         </td> <td>1911        </td> <td>1997       </td> <td>14366        </td> <td>1608         </td> <td>2105    </td> <td>1876       </td> <td>1257          </td> <td>3708       </td> <td>1583        </td> <td>15923                                 </td> <td>1899       </td> <td>4174       </td> <td>1706         </td> <td>5574          </td> <td>5285          </td> <td>1350         </td> <td>5228      </td> <td>1768         </td> <td>2834         </td> <td>0                   </td> <td>15912     </td> <td>2360         </td> <td>328          </td> <td>2189        </td> <td>1605        </td> <td>623       </td> <td>4838         </td> <td>3069            </td> <td>1694                 </td> <td>5876          </td> <td>1741       </td> <td>2330        </td> <td>2423          </td> <td>1489       </td> <td>2478        </td> <td>3169        </td> <td>2934             </td> <td>1557       </td> <td>1894           </td> <td>2793                                    </td> <td>2249      </td> <td>18217       </td> <td>2777       </td> <td>1369                                   </td> <td>3038            </td> <td>4248            </td> <td>12306         </td> <td>3688       </td> <td>1443           </td> <td>820       </td> <td>5718         </td> <td>11892   </td> <td>219            </td> <td>841          </td> <td>13109         </td> <td>1955                  </td> <td>2250                    </td> <td>2083     </td> <td>12906       </td> <td>2614        </td> <td>1699        </td> <td>0                                   </td> <td>490                                </td> <td>1221                                </td> <td>1872                     </td> <td>950        </td> <td>2175        </td> <td>3543                                 </td> <td>2468       </td> <td>2614        </td> <td>2820     </td> <td>1608           </td> <td>65054       </td> <td>201             </td> <td>0        </td> <td>3534        </td> <td>2480      </td> <td>2067        </td> <td>2648           </td> <td>2257      </td> <td>1527      </td> <td>1859           </td> <td>1835                  </td> <td>2763      </td> <td>0                         </td> <td>246671   </td> <td>1018      </td> <td>2296        </td> <td>1964      </td> <td>3736         </td> <td>1505          </td> <td>2524         </td> <td>775       </td> <td>2745        </td> <td>3377       </td> <td>1235                 </td> <td>1326           </td> <td>1515               </td> <td>1224                      </td> <td>1317          </td> <td>1970       </td> <td>3133                  </td> <td>5228         </td> <td>4319         </td> <td>1019                            </td> <td>2148        </td> <td>1180                      </td> <td>1545       </td> <td>2259      </td> <td>1038         </td> <td>2548     </td> <td>2423      </td> <td>2295       </td> <td>1253       </td> <td>2070           </td> <td>2038            </td> <td>2377       </td> <td>2216    </td> <td>104         </td> <td>2452                </td> <td>0                          </td> <td>1281                            </td> <td>4116        </td> <td>1965    </td> <td>2863        </td> <td>2298         </td> <td>1052        </td> <td>1946         </td> <td>23            </td> <td>1739      </td> <td>3740       </td> <td>2230        </td> <td>2001          </td> <td>3061            </td> <td>1960                    </td> <td>2430                     </td> <td>1964                     </td> <td>1249        </td> <td>10622     </td> <td>3641                </td> <td>6349        </td> <td>9386              </td> <td>11916      </td> <td>0               </td> <td>2146            </td> <td>1794        </td> <td>4530       </td> <td>10506     </td> <td>2412                     </td> <td>1545                     </td> <td>2301                      </td> <td>7922         </td> <td>2156         </td> <td>2205        </td> <td>2001          </td> <td>2260        </td> <td>1797                    </td> <td>2098         </td> <td>1803            </td> <td>0       </td> <td>2330      </td> <td>4903    </td> <td>2824   </td> <td>2203    </td> <td>3370        </td> <td>641                </td> <td>3550         </td> <td>1258         </td> <td>3548                 </td> <td>1982       </td> <td>1883    </td> <td>2026             </td> <td>1739       </td> <td>2505    </td> <td>2780     </td> <td>1210      </td> <td>1649         </td> <td>1538      </td> <td>3590          </td> <td>345           </td> <td>2411                       </td> <td>1811                 </td> <td>1426    </td> <td>3133                   </td> <td>1472         </td> <td>2273        </td> <td>81         </td> <td>20203     </td> <td>0                 </td> <td>34673        </td> <td>944        </td> <td>2514         </td> <td>0                            </td> <td>1854          </td> <td>2589         </td> <td>490         </td> <td>0              </td> <td>4024     </td> <td>61          </td> <td>2825         </td> <td>2674       </td>\n",
       "        </tr>\n",
       "        <tr>\n",
       "            <td>2016-02</td> <td>8125          </td> <td>4105       </td> <td>2627                   </td> <td>1226                     </td> <td>901              </td> <td>3326                 </td> <td>27       </td> <td>1708          </td> <td>2042       </td> <td>5275          </td> <td>2850       </td> <td>7002      </td> <td>7720    </td> <td>7069        </td> <td>1455                       </td> <td>751                    </td> <td>683        </td> <td>3166             </td> <td>2817      </td> <td>3565      </td> <td>3650            </td> <td>1664                     </td> <td>4122            </td> <td>8562       </td> <td>1918            </td> <td>205      </td> <td>2485           </td> <td>4114         </td> <td>2131          </td> <td>2507       </td> <td>1893                    </td> <td>1443         </td> <td>1363                          </td> <td>1306                     </td> <td>2098         </td> <td>1707      </td> <td>3420        </td> <td>1296      </td> <td>1836              </td> <td>2777            </td> <td>2497     </td> <td>1374     </td> <td>3032         </td> <td>1233     </td> <td>12035     </td> <td>0                       </td> <td>3131                 </td> <td>3058          </td> <td>3448        </td> <td>1725         </td> <td>2534         </td> <td>2557           </td> <td>890             </td> <td>1368         </td> <td>2841       </td> <td>0                                      </td> <td>2384         </td> <td>0         </td> <td>2890          </td> <td>1555           </td> <td>2977        </td> <td>3257                       </td> <td>1767             </td> <td>3896           </td> <td>4642                  </td> <td>2405           </td> <td>33558        </td> <td>2664        </td> <td>4622           </td> <td>2750        </td> <td>11480                          </td> <td>3420                               </td> <td>2824                      </td> <td>1437             </td> <td>642           </td> <td>0           </td> <td>2326            </td> <td>2572           </td> <td>1613                    </td> <td>3681      </td> <td>2138        </td> <td>1551        </td> <td>6099            </td> <td>3842                               </td> <td>2786          </td> <td>3470        </td> <td>15159       </td> <td>653        </td> <td>7007     </td> <td>2553         </td> <td>2832         </td> <td>3526           </td> <td>1950                    </td> <td>0            </td> <td>1560          </td> <td>1995                         </td> <td>1842        </td> <td>2626            </td> <td>2613                            </td> <td>1002       </td> <td>2262         </td> <td>337                          </td> <td>5325          </td> <td>67547                   </td> <td>1371       </td> <td>3554       </td> <td>2467        </td> <td>2790       </td> <td>3068         </td> <td>2108       </td> <td>4433      </td> <td>0                     </td> <td>4738     </td> <td>5644     </td> <td>84             </td> <td>2190           </td> <td>1438             </td> <td>2687        </td> <td>1826                     </td> <td>2041        </td> <td>1384        </td> <td>0                         </td> <td>28428           </td> <td>2200               </td> <td>0                        </td> <td>2826           </td> <td>1911         </td> <td>3671    </td> <td>183          </td> <td>22420          </td> <td>2812       </td> <td>8186          </td> <td>1989          </td> <td>3291           </td> <td>5584         </td> <td>2309        </td> <td>1974                     </td> <td>1660             </td> <td>2698          </td> <td>1998          </td> <td>747                              </td> <td>2448         </td> <td>3484      </td> <td>3551            </td> <td>2383                    </td> <td>14849            </td> <td>1634         </td> <td>2078                    </td> <td>3744      </td> <td>2169          </td> <td>3157          </td> <td>1816          </td> <td>1135                       </td> <td>4022      </td> <td>2455            </td> <td>2281       </td> <td>1241        </td> <td>3494         </td> <td>2260         </td> <td>3230      </td> <td>5655           </td> <td>2488      </td> <td>7085        </td> <td>3056         </td> <td>12357              </td> <td>0           </td> <td>6905         </td> <td>2248           </td> <td>0          </td> <td>3366                 </td> <td>613                     </td> <td>2483        </td> <td>3157          </td> <td>2545         </td> <td>6231       </td> <td>20646         </td> <td>0                        </td> <td>1423          </td> <td>3439          </td> <td>2215       </td> <td>3103                    </td> <td>2182            </td> <td>3243          </td> <td>1813          </td> <td>565      </td> <td>2352           </td> <td>18348      </td> <td>3522      </td> <td>2305     </td> <td>2800     </td> <td>3350                        </td> <td>461         </td> <td>2533                          </td> <td>1692       </td> <td>3742             </td> <td>2141                          </td> <td>17           </td> <td>21090         </td> <td>1508           </td> <td>2135     </td> <td>3579      </td> <td>1599                     </td> <td>539        </td> <td>11444                       </td> <td>1693          </td> <td>1521                          </td> <td>13719       </td> <td>3281          </td> <td>340         </td> <td>1084     </td> <td>4832          </td> <td>1980      </td> <td>303                             </td> <td>1967          </td> <td>2220                                </td> <td>0                                   </td> <td>2611         </td> <td>2725        </td> <td>2465        </td> <td>2372          </td> <td>3536           </td> <td>162         </td> <td>2692        </td> <td>2485       </td> <td>5431    </td> <td>1881          </td> <td>9473        </td> <td>4236      </td> <td>5783           </td> <td>3048         </td> <td>2596        </td> <td>2305       </td> <td>23428        </td> <td>1747         </td> <td>2391    </td> <td>1920       </td> <td>1387          </td> <td>5748       </td> <td>1554        </td> <td>17579                                 </td> <td>2157       </td> <td>6860       </td> <td>1768         </td> <td>6284          </td> <td>6683          </td> <td>1434         </td> <td>4523      </td> <td>1800         </td> <td>3368         </td> <td>0                   </td> <td>12495     </td> <td>2842         </td> <td>559          </td> <td>2530        </td> <td>1753        </td> <td>752       </td> <td>5834         </td> <td>3163            </td> <td>1910                 </td> <td>7320          </td> <td>1842       </td> <td>2191        </td> <td>2775          </td> <td>2117       </td> <td>3478        </td> <td>4222        </td> <td>3030             </td> <td>2401       </td> <td>2085           </td> <td>3156                                    </td> <td>2683      </td> <td>36473       </td> <td>3755       </td> <td>1976                                   </td> <td>2727            </td> <td>6189            </td> <td>6836          </td> <td>4247       </td> <td>2035           </td> <td>606       </td> <td>8205         </td> <td>15901   </td> <td>161            </td> <td>563          </td> <td>5064          </td> <td>2505                  </td> <td>2039                    </td> <td>4245     </td> <td>11979       </td> <td>2985        </td> <td>1838        </td> <td>0                                   </td> <td>527                                </td> <td>1101                                </td> <td>2233                     </td> <td>608        </td> <td>1897        </td> <td>2636                                 </td> <td>2483       </td> <td>3332        </td> <td>3301     </td> <td>1506           </td> <td>57626       </td> <td>346             </td> <td>0        </td> <td>5600        </td> <td>2938      </td> <td>2332        </td> <td>3550           </td> <td>2340      </td> <td>2374      </td> <td>2309           </td> <td>1844                  </td> <td>2263      </td> <td>0                         </td> <td>110858   </td> <td>1092      </td> <td>4428        </td> <td>2319      </td> <td>4714         </td> <td>1537          </td> <td>2799         </td> <td>656       </td> <td>3056        </td> <td>7542       </td> <td>1286                 </td> <td>1497           </td> <td>3458               </td> <td>1529                      </td> <td>1503          </td> <td>2356       </td> <td>3567                  </td> <td>10647        </td> <td>5653         </td> <td>995                             </td> <td>2353        </td> <td>1385                      </td> <td>1667       </td> <td>2699      </td> <td>1341         </td> <td>2606     </td> <td>2210      </td> <td>2472       </td> <td>1611       </td> <td>3790           </td> <td>2226            </td> <td>3182       </td> <td>2847    </td> <td>102         </td> <td>2573                </td> <td>0                          </td> <td>1698                            </td> <td>6098        </td> <td>2253    </td> <td>3346        </td> <td>3315         </td> <td>1623        </td> <td>2038         </td> <td>28            </td> <td>2053      </td> <td>4927       </td> <td>2409        </td> <td>2659          </td> <td>4071            </td> <td>1938                    </td> <td>3060                     </td> <td>1606                     </td> <td>1252        </td> <td>13506     </td> <td>4592                </td> <td>5859        </td> <td>10354             </td> <td>10434      </td> <td>0               </td> <td>2503            </td> <td>2027        </td> <td>6130       </td> <td>13039     </td> <td>2852                     </td> <td>1788                     </td> <td>1987                      </td> <td>9230         </td> <td>1750         </td> <td>2739        </td> <td>1589          </td> <td>2345        </td> <td>1904                    </td> <td>2360         </td> <td>2195            </td> <td>0       </td> <td>2485      </td> <td>10644   </td> <td>3282   </td> <td>2326    </td> <td>4085        </td> <td>645                </td> <td>3513         </td> <td>1109         </td> <td>3701                 </td> <td>2180       </td> <td>2171    </td> <td>2044             </td> <td>1582       </td> <td>2467    </td> <td>3343     </td> <td>1513      </td> <td>1902         </td> <td>1619      </td> <td>3982          </td> <td>339           </td> <td>2887                       </td> <td>1778                 </td> <td>1810    </td> <td>2999                   </td> <td>1326         </td> <td>3029        </td> <td>65         </td> <td>46184     </td> <td>0                 </td> <td>185299       </td> <td>1043       </td> <td>2704         </td> <td>0                            </td> <td>1690          </td> <td>2757         </td> <td>520         </td> <td>0              </td> <td>5356     </td> <td>66          </td> <td>3622         </td> <td>3155       </td>\n",
       "        </tr>\n",
       "        <tr>\n",
       "            <td>2016-03</td> <td>12940         </td> <td>5578       </td> <td>3012                   </td> <td>1354                     </td> <td>987              </td> <td>2853                 </td> <td>34       </td> <td>2245          </td> <td>2663       </td> <td>6950          </td> <td>2890       </td> <td>7560      </td> <td>8088    </td> <td>7013        </td> <td>1449                       </td> <td>882                    </td> <td>165        </td> <td>2133             </td> <td>4048      </td> <td>4294      </td> <td>4220            </td> <td>1657                     </td> <td>4286            </td> <td>9359       </td> <td>2172            </td> <td>258      </td> <td>2963           </td> <td>2995         </td> <td>3038          </td> <td>2121       </td> <td>2733                    </td> <td>1752         </td> <td>1682                          </td> <td>1604                     </td> <td>2131         </td> <td>2345      </td> <td>2733        </td> <td>1503      </td> <td>4287              </td> <td>2358            </td> <td>3104     </td> <td>1598     </td> <td>3632         </td> <td>1363     </td> <td>11334     </td> <td>0                       </td> <td>3108                 </td> <td>4385          </td> <td>3323        </td> <td>2068         </td> <td>2927         </td> <td>2858           </td> <td>1322            </td> <td>1454         </td> <td>3400       </td> <td>0                                      </td> <td>2436         </td> <td>0         </td> <td>2539          </td> <td>1498           </td> <td>2456        </td> <td>4758                       </td> <td>1467             </td> <td>4126           </td> <td>5606                  </td> <td>2731           </td> <td>28657        </td> <td>2978        </td> <td>4051           </td> <td>3427        </td> <td>7406                           </td> <td>3646                               </td> <td>2649                      </td> <td>1558             </td> <td>688           </td> <td>0           </td> <td>2695            </td> <td>5224           </td> <td>1967                    </td> <td>2984      </td> <td>3170        </td> <td>1701        </td> <td>6343            </td> <td>4264                               </td> <td>3640          </td> <td>3597        </td> <td>21733       </td> <td>792        </td> <td>8577     </td> <td>1769         </td> <td>3155         </td> <td>3932           </td> <td>2684                    </td> <td>0            </td> <td>1806          </td> <td>2149                         </td> <td>2052        </td> <td>3244            </td> <td>2020                            </td> <td>1006       </td> <td>2383         </td> <td>254                          </td> <td>9412          </td> <td>87992                   </td> <td>1692       </td> <td>4000       </td> <td>2512        </td> <td>4863       </td> <td>3459         </td> <td>3216       </td> <td>2873      </td> <td>0                     </td> <td>4386     </td> <td>7450     </td> <td>573            </td> <td>2688           </td> <td>1545             </td> <td>3093        </td> <td>2109                     </td> <td>2225        </td> <td>1574        </td> <td>0                         </td> <td>17889           </td> <td>2525               </td> <td>0                        </td> <td>3036           </td> <td>2054         </td> <td>4735    </td> <td>233          </td> <td>10536          </td> <td>2989       </td> <td>10729         </td> <td>2186          </td> <td>2854           </td> <td>4988         </td> <td>2763        </td> <td>1932                     </td> <td>1725             </td> <td>1705          </td> <td>2108          </td> <td>757                              </td> <td>2646         </td> <td>5052      </td> <td>3287            </td> <td>1652                    </td> <td>8781             </td> <td>1752         </td> <td>2177                    </td> <td>2649      </td> <td>2220          </td> <td>3383          </td> <td>2981          </td> <td>1187                       </td> <td>3822      </td> <td>2520            </td> <td>2564       </td> <td>1593        </td> <td>2482         </td> <td>2549         </td> <td>2783      </td> <td>3873           </td> <td>3118      </td> <td>7197        </td> <td>3528         </td> <td>9845               </td> <td>96          </td> <td>8189         </td> <td>1942           </td> <td>0          </td> <td>3601                 </td> <td>729                     </td> <td>3987        </td> <td>4247          </td> <td>2992         </td> <td>7061       </td> <td>17575         </td> <td>0                        </td> <td>1538          </td> <td>2696          </td> <td>2864       </td> <td>2361                    </td> <td>2312            </td> <td>4419          </td> <td>2426          </td> <td>858      </td> <td>2231           </td> <td>4999       </td> <td>3890      </td> <td>3014     </td> <td>3006     </td> <td>6214                        </td> <td>552         </td> <td>2816                          </td> <td>1825       </td> <td>5184             </td> <td>2260                          </td> <td>29           </td> <td>25591         </td> <td>1040           </td> <td>2551     </td> <td>4245      </td> <td>1738                     </td> <td>533        </td> <td>11602                       </td> <td>1999          </td> <td>1524                          </td> <td>14331       </td> <td>2541          </td> <td>427         </td> <td>1090     </td> <td>4689          </td> <td>2127      </td> <td>82                              </td> <td>1303          </td> <td>1833                                </td> <td>0                                   </td> <td>2999         </td> <td>3483        </td> <td>2676        </td> <td>2886          </td> <td>1530           </td> <td>141         </td> <td>2939        </td> <td>2676       </td> <td>6228    </td> <td>2332          </td> <td>11943       </td> <td>4352      </td> <td>4326           </td> <td>3323         </td> <td>3201        </td> <td>2486       </td> <td>19134        </td> <td>1937         </td> <td>3155    </td> <td>2272       </td> <td>1414          </td> <td>4645       </td> <td>1668        </td> <td>24252                                 </td> <td>2844       </td> <td>4735       </td> <td>2177         </td> <td>7101          </td> <td>6772          </td> <td>1717         </td> <td>4496      </td> <td>2251         </td> <td>3254         </td> <td>0                   </td> <td>9257      </td> <td>3676         </td> <td>492          </td> <td>3005        </td> <td>4093        </td> <td>1112      </td> <td>6691         </td> <td>4256            </td> <td>2279                 </td> <td>7051          </td> <td>1645       </td> <td>2566        </td> <td>3490          </td> <td>2087       </td> <td>3472        </td> <td>10355       </td> <td>2942             </td> <td>1978       </td> <td>2440           </td> <td>3115                                    </td> <td>3120      </td> <td>14550       </td> <td>5005       </td> <td>1983                                   </td> <td>2550            </td> <td>11267           </td> <td>13991         </td> <td>4425       </td> <td>12587          </td> <td>1097      </td> <td>7430         </td> <td>16236   </td> <td>178            </td> <td>347          </td> <td>5768          </td> <td>3452                  </td> <td>2464                    </td> <td>2570     </td> <td>15713       </td> <td>2680        </td> <td>2184        </td> <td>0                                   </td> <td>509                                </td> <td>1100                                </td> <td>2683                     </td> <td>146        </td> <td>2199        </td> <td>2739                                 </td> <td>2792       </td> <td>4131        </td> <td>4792     </td> <td>1666           </td> <td>81862       </td> <td>431             </td> <td>0        </td> <td>4558        </td> <td>3686      </td> <td>2347        </td> <td>3597           </td> <td>2763      </td> <td>3087      </td> <td>2400           </td> <td>2279                  </td> <td>3927      </td> <td>0                         </td> <td>227746   </td> <td>1231      </td> <td>5154        </td> <td>2322      </td> <td>6570         </td> <td>2012          </td> <td>2873         </td> <td>659       </td> <td>4993        </td> <td>7537       </td> <td>1577                 </td> <td>2329           </td> <td>8383               </td> <td>1517                      </td> <td>1974          </td> <td>2314       </td> <td>3933                  </td> <td>9602         </td> <td>7054         </td> <td>1074                            </td> <td>2625        </td> <td>1315                      </td> <td>3766       </td> <td>3218      </td> <td>1346         </td> <td>2441     </td> <td>2692      </td> <td>2470       </td> <td>1671       </td> <td>3709           </td> <td>2600            </td> <td>3794       </td> <td>3975    </td> <td>108         </td> <td>2983                </td> <td>0                          </td> <td>1799                            </td> <td>7268        </td> <td>2810    </td> <td>5220        </td> <td>3829         </td> <td>1190        </td> <td>2222         </td> <td>20            </td> <td>1990      </td> <td>4269       </td> <td>2883        </td> <td>3002          </td> <td>7463            </td> <td>2458                    </td> <td>3277                     </td> <td>1251                     </td> <td>1546        </td> <td>10500     </td> <td>4671                </td> <td>7722        </td> <td>8010              </td> <td>14196      </td> <td>0               </td> <td>2396            </td> <td>2746        </td> <td>5199       </td> <td>5929      </td> <td>2975                     </td> <td>1926                     </td> <td>1919                      </td> <td>13138        </td> <td>2100         </td> <td>4343        </td> <td>2072          </td> <td>2660        </td> <td>2594                    </td> <td>3783         </td> <td>2367            </td> <td>0       </td> <td>2999      </td> <td>6395    </td> <td>3666   </td> <td>2786    </td> <td>3663        </td> <td>523                </td> <td>4077         </td> <td>1182         </td> <td>4950                 </td> <td>2739       </td> <td>2789    </td> <td>2027             </td> <td>1853       </td> <td>2869    </td> <td>4236     </td> <td>1755      </td> <td>2019         </td> <td>9134      </td> <td>4542          </td> <td>459           </td> <td>3141                       </td> <td>3576                 </td> <td>1384    </td> <td>3009                   </td> <td>1587         </td> <td>3412        </td> <td>49         </td> <td>25200     </td> <td>0                 </td> <td>172824       </td> <td>960        </td> <td>2640         </td> <td>17                           </td> <td>2196          </td> <td>3316         </td> <td>364         </td> <td>114            </td> <td>5932     </td> <td>62          </td> <td>3867         </td> <td>3663       </td>\n",
       "        </tr>\n",
       "        <tr>\n",
       "            <td>2016-04</td> <td>6579          </td> <td>6541       </td> <td>2712                   </td> <td>1368                     </td> <td>1296             </td> <td>4527                 </td> <td>30       </td> <td>2164          </td> <td>2348       </td> <td>4795          </td> <td>2472       </td> <td>5134      </td> <td>5505    </td> <td>6153        </td> <td>1722                       </td> <td>950                    </td> <td>117        </td> <td>2050             </td> <td>3696      </td> <td>4368      </td> <td>7862            </td> <td>1475                     </td> <td>4426            </td> <td>6992       </td> <td>1707            </td> <td>249      </td> <td>2989           </td> <td>2786         </td> <td>2295          </td> <td>1833       </td> <td>2500                    </td> <td>1452         </td> <td>1323                          </td> <td>1686                     </td> <td>2251         </td> <td>1785      </td> <td>6292        </td> <td>1498      </td> <td>1640              </td> <td>1779            </td> <td>3435     </td> <td>1385     </td> <td>3227         </td> <td>1239     </td> <td>8962      </td> <td>0                       </td> <td>2700                 </td> <td>1691          </td> <td>3554        </td> <td>1494         </td> <td>2162         </td> <td>2083           </td> <td>1453            </td> <td>1404         </td> <td>2192       </td> <td>0                                      </td> <td>2525         </td> <td>0         </td> <td>2489          </td> <td>1353           </td> <td>1732        </td> <td>2604                       </td> <td>1612             </td> <td>5367           </td> <td>5953                  </td> <td>2184           </td> <td>14197        </td> <td>4562        </td> <td>3338           </td> <td>2416        </td> <td>5760                           </td> <td>3649                               </td> <td>2384                      </td> <td>1505             </td> <td>667           </td> <td>0           </td> <td>2393            </td> <td>4483           </td> <td>1719                    </td> <td>2121      </td> <td>3112        </td> <td>1404        </td> <td>7749            </td> <td>3750                               </td> <td>2400          </td> <td>2742        </td> <td>11832       </td> <td>1069       </td> <td>5804     </td> <td>1744         </td> <td>3563         </td> <td>3960           </td> <td>1371                    </td> <td>0            </td> <td>1733          </td> <td>1839                         </td> <td>1479        </td> <td>2606            </td> <td>1710                            </td> <td>845        </td> <td>2570         </td> <td>209                          </td> <td>4361          </td> <td>71658                   </td> <td>1598       </td> <td>5305       </td> <td>2600        </td> <td>2843       </td> <td>3724         </td> <td>2759       </td> <td>2689      </td> <td>0                     </td> <td>5338     </td> <td>6214     </td> <td>658            </td> <td>3225           </td> <td>1560             </td> <td>2760        </td> <td>1941                     </td> <td>3191        </td> <td>2055        </td> <td>0                         </td> <td>20376           </td> <td>2911               </td> <td>0                        </td> <td>3023           </td> <td>1916         </td> <td>4399    </td> <td>235          </td> <td>8902           </td> <td>4483       </td> <td>7618          </td> <td>2499          </td> <td>2760           </td> <td>3728         </td> <td>3794        </td> <td>1780                     </td> <td>1548             </td> <td>1122          </td> <td>2575          </td> <td>652                              </td> <td>2943         </td> <td>3721      </td> <td>2990            </td> <td>1444                    </td> <td>7858             </td> <td>1511         </td> <td>1736                    </td> <td>2154      </td> <td>1783          </td> <td>3020          </td> <td>3147          </td> <td>1278                       </td> <td>4484      </td> <td>2775            </td> <td>2682       </td> <td>1304        </td> <td>2532         </td> <td>1958         </td> <td>3145      </td> <td>5133           </td> <td>2703      </td> <td>6490        </td> <td>2592         </td> <td>6924               </td> <td>78          </td> <td>8710         </td> <td>1925           </td> <td>0          </td> <td>3681                 </td> <td>1104                    </td> <td>16785       </td> <td>3431          </td> <td>4723         </td> <td>6797       </td> <td>10874         </td> <td>0                        </td> <td>1567          </td> <td>2238          </td> <td>2660       </td> <td>1566                    </td> <td>1869            </td> <td>4593          </td> <td>2081          </td> <td>1612     </td> <td>2299           </td> <td>4167       </td> <td>3595      </td> <td>3017     </td> <td>2961     </td> <td>3012                        </td> <td>418         </td> <td>2596                          </td> <td>1673       </td> <td>4661             </td> <td>2467                          </td> <td>37           </td> <td>18775         </td> <td>825            </td> <td>1753     </td> <td>3807      </td> <td>1820                     </td> <td>480        </td> <td>7165                        </td> <td>1941          </td> <td>1196                          </td> <td>11912       </td> <td>2252          </td> <td>437         </td> <td>1448     </td> <td>4336          </td> <td>2217      </td> <td>89                              </td> <td>1263          </td> <td>1453                                </td> <td>0                                   </td> <td>4523         </td> <td>2302        </td> <td>2181        </td> <td>3104          </td> <td>1145           </td> <td>147         </td> <td>1940        </td> <td>2771       </td> <td>5826    </td> <td>2079          </td> <td>6641        </td> <td>3648      </td> <td>3677           </td> <td>3480         </td> <td>2455        </td> <td>2114       </td> <td>14857        </td> <td>2010         </td> <td>2602    </td> <td>2289       </td> <td>1351          </td> <td>3705       </td> <td>3223        </td> <td>16212                                 </td> <td>2257       </td> <td>4086       </td> <td>2263         </td> <td>6243          </td> <td>5254          </td> <td>1667         </td> <td>4909      </td> <td>2560         </td> <td>3742         </td> <td>0                   </td> <td>7444      </td> <td>3725         </td> <td>1513         </td> <td>2710        </td> <td>4208        </td> <td>1089      </td> <td>10046        </td> <td>4376            </td> <td>2088                 </td> <td>4897          </td> <td>1992       </td> <td>2237        </td> <td>2899          </td> <td>1619       </td> <td>2479        </td> <td>5474        </td> <td>2037             </td> <td>2234       </td> <td>2130           </td> <td>2392                                    </td> <td>3140      </td> <td>11059       </td> <td>4100       </td> <td>3842                                   </td> <td>2533            </td> <td>7884            </td> <td>7319          </td> <td>3744       </td> <td>2520           </td> <td>1057      </td> <td>7246         </td> <td>15177   </td> <td>122            </td> <td>377          </td> <td>3836          </td> <td>2271                  </td> <td>2031                    </td> <td>2038     </td> <td>20686       </td> <td>2767        </td> <td>1929        </td> <td>0                                   </td> <td>665                                </td> <td>1623                                </td> <td>2033                     </td> <td>146        </td> <td>1888        </td> <td>2637                                 </td> <td>2298       </td> <td>3682        </td> <td>2867     </td> <td>1525           </td> <td>67333       </td> <td>428             </td> <td>0        </td> <td>4162        </td> <td>4314      </td> <td>2088        </td> <td>4128           </td> <td>3877      </td> <td>2006      </td> <td>2113           </td> <td>2648                  </td> <td>2504      </td> <td>0                         </td> <td>191522   </td> <td>1231      </td> <td>3911        </td> <td>1759      </td> <td>3847         </td> <td>2117          </td> <td>3118         </td> <td>1126      </td> <td>3088        </td> <td>4960       </td> <td>1410                 </td> <td>7131           </td> <td>1746               </td> <td>1337                      </td> <td>2287          </td> <td>1937       </td> <td>3546                  </td> <td>5335         </td> <td>4836         </td> <td>1180                            </td> <td>2591        </td> <td>1245                      </td> <td>2152       </td> <td>5625      </td> <td>1158         </td> <td>2227     </td> <td>2718      </td> <td>2562       </td> <td>1353       </td> <td>2630           </td> <td>2127            </td> <td>2316       </td> <td>2092    </td> <td>98          </td> <td>3132                </td> <td>0                          </td> <td>1517                            </td> <td>5478        </td> <td>3129    </td> <td>3848        </td> <td>2847         </td> <td>1828        </td> <td>2560         </td> <td>39            </td> <td>1901      </td> <td>3698       </td> <td>2795        </td> <td>2481          </td> <td>3831            </td> <td>2430                    </td> <td>3140                     </td> <td>1311                     </td> <td>1818        </td> <td>12056     </td> <td>4387                </td> <td>5409        </td> <td>6550              </td> <td>12246      </td> <td>0               </td> <td>2356            </td> <td>2264        </td> <td>4082       </td> <td>5044      </td> <td>3155                     </td> <td>1885                     </td> <td>2908                      </td> <td>7740         </td> <td>1807         </td> <td>2759        </td> <td>1719          </td> <td>2696        </td> <td>2668                    </td> <td>2579         </td> <td>2352            </td> <td>0       </td> <td>2649      </td> <td>8844    </td> <td>3705   </td> <td>2484    </td> <td>3159        </td> <td>397                </td> <td>3566         </td> <td>1274         </td> <td>3984                 </td> <td>2139       </td> <td>3384    </td> <td>2724             </td> <td>2127       </td> <td>2966    </td> <td>3379     </td> <td>1419      </td> <td>2304         </td> <td>3332      </td> <td>4711          </td> <td>363           </td> <td>2568                       </td> <td>2797                 </td> <td>1559    </td> <td>2795                   </td> <td>1632         </td> <td>2426        </td> <td>73         </td> <td>14299     </td> <td>0                 </td> <td>52389        </td> <td>864        </td> <td>2463         </td> <td>3                            </td> <td>2024          </td> <td>2916         </td> <td>441         </td> <td>32             </td> <td>3452     </td> <td>70          </td> <td>4288         </td> <td>3396       </td>\n",
       "        </tr>\n",
       "        <tr>\n",
       "            <td>2016-05</td> <td>10515         </td> <td>6649       </td> <td>2400                   </td> <td>1295                     </td> <td>1061             </td> <td>3047                 </td> <td>36       </td> <td>2151          </td> <td>2126       </td> <td>5958          </td> <td>2681       </td> <td>5056      </td> <td>6556    </td> <td>6762        </td> <td>2079                       </td> <td>905                    </td> <td>125        </td> <td>2342             </td> <td>3438      </td> <td>4842      </td> <td>3102            </td> <td>1807                     </td> <td>4324            </td> <td>8678       </td> <td>2116            </td> <td>329      </td> <td>2348           </td> <td>2793         </td> <td>2390          </td> <td>1870       </td> <td>1808                    </td> <td>1403         </td> <td>1264                          </td> <td>1483                     </td> <td>1900         </td> <td>1920      </td> <td>3243        </td> <td>1555      </td> <td>1496              </td> <td>2108            </td> <td>2360     </td> <td>1550     </td> <td>3086         </td> <td>2324     </td> <td>7296      </td> <td>0                       </td> <td>2526                 </td> <td>1611          </td> <td>3618        </td> <td>1446         </td> <td>2238         </td> <td>1853           </td> <td>849             </td> <td>1606         </td> <td>1920       </td> <td>0                                      </td> <td>2287         </td> <td>0         </td> <td>3022          </td> <td>1384           </td> <td>1976        </td> <td>3577                       </td> <td>1302             </td> <td>3608           </td> <td>7952                  </td> <td>2480           </td> <td>12334        </td> <td>4634        </td> <td>3563           </td> <td>2241        </td> <td>4763                           </td> <td>3078                               </td> <td>2354                      </td> <td>1311             </td> <td>797           </td> <td>0           </td> <td>3149            </td> <td>3221           </td> <td>1507                    </td> <td>1907      </td> <td>3085        </td> <td>1576        </td> <td>6809            </td> <td>3714                               </td> <td>2060          </td> <td>2558        </td> <td>17055       </td> <td>782        </td> <td>11672    </td> <td>1520         </td> <td>5349         </td> <td>3505           </td> <td>1294                    </td> <td>0            </td> <td>1751          </td> <td>1845                         </td> <td>1343        </td> <td>2488            </td> <td>1797                            </td> <td>840        </td> <td>3049         </td> <td>272                          </td> <td>4650          </td> <td>157154                  </td> <td>1646       </td> <td>4110       </td> <td>2328        </td> <td>3096       </td> <td>2717         </td> <td>2783       </td> <td>3038      </td> <td>0                     </td> <td>4868     </td> <td>6028     </td> <td>664            </td> <td>3938           </td> <td>1177             </td> <td>2973        </td> <td>2413                     </td> <td>2510        </td> <td>1452        </td> <td>0                         </td> <td>13279           </td> <td>2123               </td> <td>0                        </td> <td>3289           </td> <td>1518         </td> <td>5009    </td> <td>227          </td> <td>6918           </td> <td>2718       </td> <td>9116          </td> <td>2004          </td> <td>2061           </td> <td>4039         </td> <td>2524        </td> <td>1973                     </td> <td>1539             </td> <td>2361          </td> <td>1857          </td> <td>745                              </td> <td>2481         </td> <td>6278      </td> <td>2542            </td> <td>1389                    </td> <td>12026            </td> <td>1553         </td> <td>1706                    </td> <td>1998      </td> <td>4541          </td> <td>2856          </td> <td>1638          </td> <td>1174                       </td> <td>4567      </td> <td>2877            </td> <td>3470       </td> <td>1084        </td> <td>1915         </td> <td>2067         </td> <td>2554      </td> <td>3014           </td> <td>2943      </td> <td>7979        </td> <td>2517         </td> <td>13579              </td> <td>88          </td> <td>7762         </td> <td>2040           </td> <td>0          </td> <td>3437                 </td> <td>1925                    </td> <td>4128        </td> <td>2759          </td> <td>5299         </td> <td>6109       </td> <td>14811         </td> <td>0                        </td> <td>1360          </td> <td>2341          </td> <td>3184       </td> <td>1595                    </td> <td>1867            </td> <td>3649          </td> <td>2035          </td> <td>1580     </td> <td>2889           </td> <td>4133       </td> <td>3410      </td> <td>3032     </td> <td>2503     </td> <td>8724                        </td> <td>406         </td> <td>2158                          </td> <td>1609       </td> <td>3636             </td> <td>3042                          </td> <td>84           </td> <td>18376         </td> <td>2965           </td> <td>1685     </td> <td>4030      </td> <td>1845                     </td> <td>666        </td> <td>6864                        </td> <td>1788          </td> <td>1090                          </td> <td>11389       </td> <td>2167          </td> <td>297         </td> <td>1655     </td> <td>4486          </td> <td>2137      </td> <td>90                              </td> <td>1122          </td> <td>1445                                </td> <td>0                                   </td> <td>2339         </td> <td>2010        </td> <td>2667        </td> <td>2518          </td> <td>1300           </td> <td>143         </td> <td>1692        </td> <td>2623       </td> <td>5750    </td> <td>2095          </td> <td>8332        </td> <td>3849      </td> <td>3228           </td> <td>2777         </td> <td>2339        </td> <td>2238       </td> <td>17409        </td> <td>1602         </td> <td>2181    </td> <td>2316       </td> <td>1340          </td> <td>2983       </td> <td>5199        </td> <td>18280                                 </td> <td>2074       </td> <td>4724       </td> <td>2998         </td> <td>5749          </td> <td>5052          </td> <td>1574         </td> <td>4318      </td> <td>2484         </td> <td>4646         </td> <td>0                   </td> <td>8445      </td> <td>2811         </td> <td>345          </td> <td>2301        </td> <td>2811        </td> <td>1487      </td> <td>10692        </td> <td>3151            </td> <td>2150                 </td> <td>5479          </td> <td>2127       </td> <td>2324        </td> <td>2742          </td> <td>1637       </td> <td>2273        </td> <td>4631        </td> <td>1535             </td> <td>1932       </td> <td>2688           </td> <td>2712                                    </td> <td>2635      </td> <td>12862       </td> <td>5005       </td> <td>1914                                   </td> <td>3171            </td> <td>18030           </td> <td>8441          </td> <td>3039       </td> <td>1743           </td> <td>761       </td> <td>6363         </td> <td>16485   </td> <td>191            </td> <td>584          </td> <td>4688          </td> <td>2654                  </td> <td>2092                    </td> <td>2130     </td> <td>49970       </td> <td>2632        </td> <td>1999        </td> <td>0                                   </td> <td>596                                </td> <td>1339                                </td> <td>1929                     </td> <td>94         </td> <td>1990        </td> <td>2897                                 </td> <td>2169       </td> <td>5168        </td> <td>2063     </td> <td>1511           </td> <td>65125       </td> <td>757             </td> <td>0        </td> <td>3990        </td> <td>3003      </td> <td>1970        </td> <td>3112           </td> <td>2394      </td> <td>1809      </td> <td>1974           </td> <td>2559                  </td> <td>2417      </td> <td>0                         </td> <td>277426   </td> <td>996       </td> <td>4003        </td> <td>1646      </td> <td>4055         </td> <td>2200          </td> <td>3704         </td> <td>801       </td> <td>2956        </td> <td>3578       </td> <td>1317                 </td> <td>3502           </td> <td>2010               </td> <td>1364                      </td> <td>1616          </td> <td>1850       </td> <td>3225                  </td> <td>4516         </td> <td>9581         </td> <td>4941                            </td> <td>2227        </td> <td>1178                      </td> <td>1907       </td> <td>3852      </td> <td>3182         </td> <td>3520     </td> <td>2661      </td> <td>2797       </td> <td>1487       </td> <td>2509           </td> <td>2152            </td> <td>2023       </td> <td>1929    </td> <td>91          </td> <td>2851                </td> <td>0                          </td> <td>1442                            </td> <td>6538        </td> <td>2502    </td> <td>3820        </td> <td>2851         </td> <td>1999        </td> <td>1716         </td> <td>52            </td> <td>1581      </td> <td>3867       </td> <td>2469        </td> <td>2612          </td> <td>4682            </td> <td>1895                    </td> <td>3530                     </td> <td>2785                     </td> <td>1440        </td> <td>12231     </td> <td>9144                </td> <td>6254        </td> <td>5884              </td> <td>10133      </td> <td>0               </td> <td>1678            </td> <td>2454        </td> <td>3496       </td> <td>5152      </td> <td>3038                     </td> <td>2061                     </td> <td>2522                      </td> <td>6893         </td> <td>1571         </td> <td>2570        </td> <td>1904          </td> <td>3226        </td> <td>2622                    </td> <td>2359         </td> <td>3248            </td> <td>0       </td> <td>2318      </td> <td>6516    </td> <td>3385   </td> <td>2257    </td> <td>2830        </td> <td>651                </td> <td>4182         </td> <td>1274         </td> <td>4407                 </td> <td>2168       </td> <td>2206    </td> <td>1941             </td> <td>2518       </td> <td>3083    </td> <td>2826     </td> <td>1497      </td> <td>1930         </td> <td>3842      </td> <td>4505          </td> <td>362           </td> <td>2361                       </td> <td>2607                 </td> <td>1196    </td> <td>2829                   </td> <td>1828         </td> <td>2440        </td> <td>52         </td> <td>32518     </td> <td>162               </td> <td>36315        </td> <td>1059       </td> <td>2419         </td> <td>5                            </td> <td>1673          </td> <td>2741         </td> <td>348         </td> <td>101            </td> <td>4200     </td> <td>56          </td> <td>3201         </td> <td>7989       </td>\n",
       "        </tr>\n",
       "    </tbody>\n",
       "</table>\n",
       "<p>... (31 rows omitted)</p>"
      ],
      "text/plain": [
       "<IPython.core.display.HTML object>"
      ]
     },
     "metadata": {},
     "output_type": "display_data"
    },
    {
     "data": {
      "text/html": [
       "<table border=\"1\" class=\"dataframe\">\n",
       "    <thead>\n",
       "        <tr>\n",
       "            <th>Month</th> <th>Al_Franken</th> <th>Amy_Klobuchar</th> <th>Angus_King</th> <th>Ben_Cardin</th> <th>Ben_Sasse</th> <th>Bernie_Sanders</th> <th>Bill_Cassidy</th> <th>Bill_Nelson</th> <th>Bob_Casey_Jr.</th> <th>Bob_Corker</th> <th>Bob_Menendez</th> <th>Brian_Schatz</th> <th>Catherine_Cortez_Masto</th> <th>Chris_Coons</th> <th>Chris_Murphy_(Connecticut_politician)</th> <th>Chris_Van_Hollen</th> <th>Chuck_Grassley</th> <th>Chuck_Schumer</th> <th>Claire_McCaskill</th> <th>Cory_Booker</th> <th>Cory_Gardner</th> <th>Dan_Sullivan_(U.S._Senator)</th> <th>David_Perdue</th> <th>Dean_Heller</th> <th>Deb_Fischer</th> <th>Debbie_Stabenow</th> <th>Dianne_Feinstein</th> <th>Dick_Durbin</th> <th>Ed_Markey</th> <th>Elizabeth_Warren</th> <th>Gary_Peters_(politician)</th> <th>Heidi_Heitkamp</th> <th>Jack_Reed_(politician)</th> <th>James_Lankford</th> <th>Jeanne_Shaheen</th> <th>Jeff_Flake</th> <th>Jeff_Merkley</th> <th>Jerry_Moran</th> <th>Jim_Inhofe</th> <th>Jim_Risch</th> <th>Joe_Donnelly</th> <th>Joe_Manchin</th> <th>John_Barrasso</th> <th>John_Boozman</th> <th>John_Cornyn</th> <th>John_Hoeven</th> <th>John_McCain</th> <th>John_N._Kennedy</th> <th>John_Thune</th> <th>Johnny_Isakson</th> <th>Jon_Tester</th> <th>Joni_Ernst</th> <th>Kamala_Harris</th> <th>Kirsten_Gillibrand</th> <th>Lamar_Alexander</th> <th>Lindsey_Graham</th> <th>Lisa_Murkowski</th> <th>Luther_Strange</th> <th>Maggie_Hassan</th> <th>Marco_Rubio</th> <th>Maria_Cantwell</th> <th>Mark_Warner</th> <th>Martin_Heinrich</th> <th>Mazie_Hirono</th> <th>Michael_Bennet</th> <th>Mike_Crapo</th> <th>Mike_Enzi</th> <th>Mike_Lee_(U.S._politician)\t</th> <th>Mike_Rounds</th> <th>Mitch_McConnell</th> <th>Orrin_Hatch</th> <th>Pat_Roberts</th> <th>Pat_Toomey</th> <th>Patrick_Leahy</th> <th>Patty_Murray</th> <th>Rand_Paul</th> <th>Richard_Blumenthal</th> <th>Richard_Burr</th> <th>Richard_Shelby</th> <th>Rob_Portman</th> <th>Roger_Wicker</th> <th>Ron_Johnson_(U.S._politician)</th> <th>Ron_Wyden</th> <th>Roy_Blunt</th> <th>Sheldon_Whitehouse</th> <th>Shelley_Moore_Capito</th> <th>Sherrod_Brown</th> <th>Steve_Daines</th> <th>Susan_Collins</th> <th>Tammy_Baldwin</th> <th>Tammy_Duckworth</th> <th>Ted_Cruz</th> <th>Thad_Cochran</th> <th>Thom_Tillis</th> <th>Tim_Kaine</th> <th>Tim_Scott</th> <th>Todd_Young</th> <th>Tom_Carper</th> <th>Tom_Cotton</th> <th>Tom_Udall</th>\n",
       "        </tr>\n",
       "    </thead>\n",
       "    <tbody>\n",
       "        <tr>\n",
       "            <td>2016-01</td> <td>40768     </td> <td>10282        </td> <td>13743     </td> <td>5774      </td> <td>19451    </td> <td>1.72746e+06   </td> <td>4499        </td> <td>13754      </td> <td>88           </td> <td>7418      </td> <td>9294        </td> <td>6740        </td> <td>3085                  </td> <td>4903       </td> <td>9094                                 </td> <td>6679            </td> <td>16709         </td> <td>55327        </td> <td>13960           </td> <td>44700      </td> <td>7375        </td> <td>775                        </td> <td>4437        </td> <td>3915       </td> <td>4628       </td> <td>9669           </td> <td>36146           </td> <td>15779      </td> <td>9279     </td> <td>136363          </td> <td>5848                    </td> <td>4960          </td> <td>6339                  </td> <td>6162          </td> <td>9314          </td> <td>6737      </td> <td>4398        </td> <td>4184       </td> <td>10411     </td> <td>3689     </td> <td>5375        </td> <td>7413       </td> <td>3822         </td> <td>4457        </td> <td>16096      </td> <td>3334       </td> <td>252746     </td> <td>65             </td> <td>9404      </td> <td>6432          </td> <td>4918      </td> <td>16801     </td> <td>20167        </td> <td>26493             </td> <td>9763           </td> <td>46042         </td> <td>12308         </td> <td>818           </td> <td>13041        </td> <td>514100     </td> <td>6987          </td> <td>11080      </td> <td>5385           </td> <td>8501        </td> <td>9422          </td> <td>3606      </td> <td>3856     </td> <td>0                          </td> <td>3095       </td> <td>33299          </td> <td>36571      </td> <td>4354       </td> <td>10297     </td> <td>38866        </td> <td>8895        </td> <td>223155   </td> <td>12316             </td> <td>9792        </td> <td>18582         </td> <td>11332      </td> <td>4120        </td> <td>7190                         </td> <td>8857     </td> <td>7675     </td> <td>5636              </td> <td>5380                </td> <td>10126        </td> <td>4671        </td> <td>12363        </td> <td>11753        </td> <td>15202          </td> <td>1.35248e+06</td> <td>6480        </td> <td>6148       </td> <td>16630    </td> <td>13176    </td> <td>2525      </td> <td>3835      </td> <td>24117     </td> <td>6253     </td>\n",
       "        </tr>\n",
       "        <tr>\n",
       "            <td>2016-02</td> <td>42661     </td> <td>40245        </td> <td>19517     </td> <td>7716      </td> <td>28501    </td> <td>3.58826e+06   </td> <td>5482        </td> <td>20045      </td> <td>101          </td> <td>10224     </td> <td>14837       </td> <td>9112        </td> <td>6246                  </td> <td>6962       </td> <td>9352                                 </td> <td>9569            </td> <td>25669         </td> <td>55546        </td> <td>19363           </td> <td>120228     </td> <td>10171       </td> <td>5288                       </td> <td>7789        </td> <td>9943       </td> <td>6748       </td> <td>9176           </td> <td>39386           </td> <td>21995      </td> <td>13316    </td> <td>251797          </td> <td>6324                    </td> <td>7178          </td> <td>6310                  </td> <td>5666          </td> <td>20238         </td> <td>11815     </td> <td>4471        </td> <td>4741       </td> <td>11239     </td> <td>4391     </td> <td>7167        </td> <td>9303       </td> <td>4568         </td> <td>5861        </td> <td>26413      </td> <td>4309       </td> <td>287721     </td> <td>73             </td> <td>8067      </td> <td>9886          </td> <td>6076      </td> <td>15662     </td> <td>87830        </td> <td>31028             </td> <td>14223          </td> <td>80023         </td> <td>12601         </td> <td>885           </td> <td>25892        </td> <td>1.86314e+06</td> <td>8574          </td> <td>16435      </td> <td>6427           </td> <td>12117       </td> <td>12573         </td> <td>4249      </td> <td>4335     </td> <td>0                          </td> <td>3830       </td> <td>94428          </td> <td>59270      </td> <td>6785       </td> <td>20203     </td> <td>57757        </td> <td>11509       </td> <td>171396   </td> <td>16201             </td> <td>12036       </td> <td>21191         </td> <td>15656      </td> <td>5037        </td> <td>9221                         </td> <td>9988     </td> <td>9923     </td> <td>9116              </td> <td>7370                </td> <td>15929        </td> <td>4648        </td> <td>17014        </td> <td>15242        </td> <td>29774          </td> <td>2.27243e+06</td> <td>8357        </td> <td>9979       </td> <td>21087    </td> <td>48370    </td> <td>4778      </td> <td>4505      </td> <td>19042     </td> <td>6822     </td>\n",
       "        </tr>\n",
       "        <tr>\n",
       "            <td>2016-03</td> <td>69646     </td> <td>22588        </td> <td>18929     </td> <td>7535      </td> <td>46198    </td> <td>2.02613e+06   </td> <td>5963        </td> <td>20002      </td> <td>110          </td> <td>10139     </td> <td>15879       </td> <td>11376       </td> <td>6426                  </td> <td>6676       </td> <td>10502                                </td> <td>15807           </td> <td>27369         </td> <td>43496        </td> <td>12915           </td> <td>148369     </td> <td>10075       </td> <td>5720                       </td> <td>9501        </td> <td>5059       </td> <td>6914       </td> <td>10689          </td> <td>39737           </td> <td>24089      </td> <td>14721    </td> <td>263435          </td> <td>7853                    </td> <td>6355          </td> <td>6286                  </td> <td>6339          </td> <td>11949         </td> <td>15783     </td> <td>5493        </td> <td>6512       </td> <td>17171     </td> <td>5008     </td> <td>8019        </td> <td>10329      </td> <td>5706         </td> <td>5437        </td> <td>28753      </td> <td>4599       </td> <td>239321     </td> <td>63             </td> <td>8916      </td> <td>10100         </td> <td>7416      </td> <td>11903     </td> <td>33522        </td> <td>31428             </td> <td>12546          </td> <td>95282         </td> <td>11930         </td> <td>1166          </td> <td>14844        </td> <td>1.06037e+06</td> <td>10629         </td> <td>17592      </td> <td>6604           </td> <td>13466       </td> <td>14214         </td> <td>5037      </td> <td>4531     </td> <td>0                          </td> <td>4416       </td> <td>107192         </td> <td>60510      </td> <td>7594       </td> <td>18431     </td> <td>74701        </td> <td>13627       </td> <td>96366    </td> <td>14623             </td> <td>16464       </td> <td>16288         </td> <td>22641      </td> <td>5745        </td> <td>11941                        </td> <td>9512     </td> <td>10904    </td> <td>7977              </td> <td>7592                </td> <td>38094        </td> <td>4953        </td> <td>19880        </td> <td>16726        </td> <td>73608          </td> <td>1.69609e+06</td> <td>9415        </td> <td>9583       </td> <td>24815    </td> <td>14893    </td> <td>5325      </td> <td>4740      </td> <td>25662     </td> <td>7833     </td>\n",
       "        </tr>\n",
       "        <tr>\n",
       "            <td>2016-04</td> <td>43087     </td> <td>19740        </td> <td>13951     </td> <td>7733      </td> <td>9943     </td> <td>1.33799e+06   </td> <td>5047        </td> <td>12413      </td> <td>95           </td> <td>8403      </td> <td>12450       </td> <td>7667        </td> <td>4653                  </td> <td>5790       </td> <td>10072                                </td> <td>33189           </td> <td>16840         </td> <td>50333        </td> <td>13323           </td> <td>67708      </td> <td>8527        </td> <td>4499                       </td> <td>4877        </td> <td>4185       </td> <td>4760       </td> <td>9515           </td> <td>46832           </td> <td>17401      </td> <td>12180    </td> <td>160696          </td> <td>6128                    </td> <td>5860          </td> <td>6106                  </td> <td>4928          </td> <td>10742         </td> <td>7907      </td> <td>24060       </td> <td>4945       </td> <td>10259     </td> <td>4933     </td> <td>7427        </td> <td>8778       </td> <td>5029         </td> <td>4419        </td> <td>18072      </td> <td>4365       </td> <td>161044     </td> <td>55             </td> <td>8556      </td> <td>7048          </td> <td>7912      </td> <td>13594     </td> <td>36393        </td> <td>32458             </td> <td>10374          </td> <td>36592         </td> <td>10964         </td> <td>1244          </td> <td>11950        </td> <td>106018     </td> <td>8377          </td> <td>19597      </td> <td>5495           </td> <td>9120        </td> <td>11374         </td> <td>4005      </td> <td>4605     </td> <td>0                          </td> <td>3677       </td> <td>38192          </td> <td>36014      </td> <td>5788       </td> <td>22137     </td> <td>41565        </td> <td>10823       </td> <td>54324    </td> <td>11446             </td> <td>11853       </td> <td>9713          </td> <td>12295      </td> <td>4681        </td> <td>10852                        </td> <td>12469    </td> <td>8763     </td> <td>6987              </td> <td>6404                </td> <td>26198        </td> <td>4474        </td> <td>19470        </td> <td>16352        </td> <td>19009          </td> <td>846753     </td> <td>6925        </td> <td>6260       </td> <td>30793    </td> <td>10561    </td> <td>11301     </td> <td>5523      </td> <td>16602     </td> <td>8272     </td>\n",
       "        </tr>\n",
       "        <tr>\n",
       "            <td>2016-05</td> <td>66366     </td> <td>16663        </td> <td>13341     </td> <td>5532      </td> <td>78686    </td> <td>787078        </td> <td>4644        </td> <td>11750      </td> <td>2146         </td> <td>53781     </td> <td>9764        </td> <td>7618        </td> <td>5662                  </td> <td>5366       </td> <td>8809                                 </td> <td>7070            </td> <td>12336         </td> <td>41958        </td> <td>12262           </td> <td>56338      </td> <td>8882        </td> <td>5184                       </td> <td>6035        </td> <td>4923       </td> <td>8774       </td> <td>7787           </td> <td>49830           </td> <td>15788      </td> <td>12730    </td> <td>393792          </td> <td>5354                    </td> <td>6001          </td> <td>5233                  </td> <td>5738          </td> <td>9637          </td> <td>12124     </td> <td>9110        </td> <td>3832       </td> <td>8639      </td> <td>3206     </td> <td>7278        </td> <td>10741      </td> <td>5425         </td> <td>4828        </td> <td>15533      </td> <td>3943       </td> <td>201562     </td> <td>73             </td> <td>12707     </td> <td>9919          </td> <td>6695      </td> <td>51981     </td> <td>89298        </td> <td>23929             </td> <td>10334          </td> <td>47487         </td> <td>9956          </td> <td>1162          </td> <td>14367        </td> <td>90417      </td> <td>7727          </td> <td>16585      </td> <td>5995           </td> <td>8232        </td> <td>11629         </td> <td>4022      </td> <td>3621     </td> <td>0                          </td> <td>3269       </td> <td>50503          </td> <td>34702      </td> <td>6388       </td> <td>16411     </td> <td>24067        </td> <td>10033       </td> <td>57217    </td> <td>9690              </td> <td>9321        </td> <td>10684         </td> <td>26831      </td> <td>4247        </td> <td>10516                        </td> <td>17257    </td> <td>8916     </td> <td>5269              </td> <td>11043               </td> <td>39916        </td> <td>4160        </td> <td>14069        </td> <td>12253        </td> <td>23157          </td> <td>444842     </td> <td>6525        </td> <td>5864       </td> <td>79052    </td> <td>20322    </td> <td>9511      </td> <td>4690      </td> <td>34675     </td> <td>12893    </td>\n",
       "        </tr>\n",
       "    </tbody>\n",
       "</table>\n",
       "<p>... (31 rows omitted)</p>"
      ],
      "text/plain": [
       "<IPython.core.display.HTML object>"
      ]
     },
     "metadata": {},
     "output_type": "display_data"
    }
   ],
   "source": [
    "house = Table.read_table('house_views.csv')\n",
    "house.show(5)\n",
    "senate = Table.read_table('senate_views.csv')\n",
    "senate.show(5)"
   ]
  },
  {
   "cell_type": "markdown",
   "metadata": {},
   "source": [
    "## Part 1: Data Cleaning\n",
    "Before we can do much with the data that we have collected, we need to do a bit of data cleaning. For this particular project, the only real cleaning we have to do is convert the dates in both tables to something that we can use to analyze time trends. Python has a builtin library called `datetime` (std. abbrev.: `dt`) which allows for robust comparison and manipulation of dates.\n",
    "\n",
    "**Question 1.** The `month_to_dt` function (defined for you) converts a string to a `datetime` object. Apply this function to the `Month` column of both `house` and `senate`, storing the results as `house_months` and `senate_months`, respectively. The last two lines of code replace the strings in the tables with the `datetime` objects."
   ]
  },
  {
   "cell_type": "code",
   "execution_count": 47,
   "metadata": {},
   "outputs": [],
   "source": [
    "def month_to_dt(entry):\n",
    "    return dt.datetime.strptime(entry, '%Y-%m')\n",
    "\n",
    "\n",
    "house_months = house.apply(month_to_dt, 'Month')\n",
    "senate_months = house.apply(month_to_dt, 'Month')\n",
    "\n",
    "house['Month'] = house_months\n",
    "senate['Month'] = senate_months"
   ]
  },
  {
   "cell_type": "markdown",
   "metadata": {},
   "source": [
    "## Part 2: Aggregate Pageviews\n",
    "Let's say that we wanted to look at how the number of pageviews for congresspersons is changing over time. The first thing we would need to do is aggregate the data that we have collected across columns into a total pageview number for each month (row) in the table.\n",
    "\n",
    "**Question 2a.** Iterate over the rows in the `house` table and store the sum of each row in `row_sums`. Then add a column to `house` with the values in `row_sums`."
   ]
  },
  {
   "cell_type": "code",
   "execution_count": 54,
   "metadata": {},
   "outputs": [
    {
     "data": {
      "text/html": [
       "<div>\n",
       "<style>\n",
       "    .dataframe thead tr:only-child th {\n",
       "        text-align: right;\n",
       "    }\n",
       "\n",
       "    .dataframe thead th {\n",
       "        text-align: left;\n",
       "    }\n",
       "\n",
       "    .dataframe tbody tr th {\n",
       "        vertical-align: top;\n",
       "    }\n",
       "</style>\n",
       "<table border=\"1\" class=\"dataframe\">\n",
       "  <thead>\n",
       "    <tr style=\"text-align: right;\">\n",
       "      <th></th>\n",
       "      <th>Month</th>\n",
       "      <th>Adam_Kinzinger</th>\n",
       "      <th>Adam_Schiff</th>\n",
       "      <th>Adam_Smith_(politician)</th>\n",
       "      <th>Adrian_Smith_(politician)</th>\n",
       "      <th>Adriano_Espaillat</th>\n",
       "      <th>Al_Green_(politician)</th>\n",
       "      <th>Al_Lawson</th>\n",
       "      <th>Alan_Lowenthal</th>\n",
       "      <th>Albio_Sires</th>\n",
       "      <th>...</th>\n",
       "      <th>Vicente_González_(politician)</th>\n",
       "      <th>Vicky_Hartzler</th>\n",
       "      <th>Virginia_Foxx</th>\n",
       "      <th>Walter_Jones</th>\n",
       "      <th>Warren_Davidson</th>\n",
       "      <th>Will_Hurd</th>\n",
       "      <th>William_Clay</th>\n",
       "      <th>Yvette_Clarke</th>\n",
       "      <th>Zoe_Lofgren</th>\n",
       "      <th>view sums</th>\n",
       "    </tr>\n",
       "  </thead>\n",
       "  <tbody>\n",
       "    <tr>\n",
       "      <th>0</th>\n",
       "      <td>2016-01</td>\n",
       "      <td>8169.0</td>\n",
       "      <td>4703.0</td>\n",
       "      <td>2587.0</td>\n",
       "      <td>1187.0</td>\n",
       "      <td>1000.0</td>\n",
       "      <td>2568.0</td>\n",
       "      <td>44.0</td>\n",
       "      <td>1550.0</td>\n",
       "      <td>1791.0</td>\n",
       "      <td>...</td>\n",
       "      <td>0.0</td>\n",
       "      <td>1854.0</td>\n",
       "      <td>2589.0</td>\n",
       "      <td>490.0</td>\n",
       "      <td>0.0</td>\n",
       "      <td>4024.0</td>\n",
       "      <td>61.0</td>\n",
       "      <td>2825.0</td>\n",
       "      <td>2674.0</td>\n",
       "      <td>1608732.0</td>\n",
       "    </tr>\n",
       "    <tr>\n",
       "      <th>1</th>\n",
       "      <td>2016-02</td>\n",
       "      <td>8125.0</td>\n",
       "      <td>4105.0</td>\n",
       "      <td>2627.0</td>\n",
       "      <td>1226.0</td>\n",
       "      <td>901.0</td>\n",
       "      <td>3326.0</td>\n",
       "      <td>27.0</td>\n",
       "      <td>1708.0</td>\n",
       "      <td>2042.0</td>\n",
       "      <td>...</td>\n",
       "      <td>0.0</td>\n",
       "      <td>1690.0</td>\n",
       "      <td>2757.0</td>\n",
       "      <td>520.0</td>\n",
       "      <td>0.0</td>\n",
       "      <td>5356.0</td>\n",
       "      <td>66.0</td>\n",
       "      <td>3622.0</td>\n",
       "      <td>3155.0</td>\n",
       "      <td>1918133.0</td>\n",
       "    </tr>\n",
       "    <tr>\n",
       "      <th>2</th>\n",
       "      <td>2016-03</td>\n",
       "      <td>12940.0</td>\n",
       "      <td>5578.0</td>\n",
       "      <td>3012.0</td>\n",
       "      <td>1354.0</td>\n",
       "      <td>987.0</td>\n",
       "      <td>2853.0</td>\n",
       "      <td>34.0</td>\n",
       "      <td>2245.0</td>\n",
       "      <td>2663.0</td>\n",
       "      <td>...</td>\n",
       "      <td>17.0</td>\n",
       "      <td>2196.0</td>\n",
       "      <td>3316.0</td>\n",
       "      <td>364.0</td>\n",
       "      <td>114.0</td>\n",
       "      <td>5932.0</td>\n",
       "      <td>62.0</td>\n",
       "      <td>3867.0</td>\n",
       "      <td>3663.0</td>\n",
       "      <td>2131159.0</td>\n",
       "    </tr>\n",
       "    <tr>\n",
       "      <th>3</th>\n",
       "      <td>2016-04</td>\n",
       "      <td>6579.0</td>\n",
       "      <td>6541.0</td>\n",
       "      <td>2712.0</td>\n",
       "      <td>1368.0</td>\n",
       "      <td>1296.0</td>\n",
       "      <td>4527.0</td>\n",
       "      <td>30.0</td>\n",
       "      <td>2164.0</td>\n",
       "      <td>2348.0</td>\n",
       "      <td>...</td>\n",
       "      <td>3.0</td>\n",
       "      <td>2024.0</td>\n",
       "      <td>2916.0</td>\n",
       "      <td>441.0</td>\n",
       "      <td>32.0</td>\n",
       "      <td>3452.0</td>\n",
       "      <td>70.0</td>\n",
       "      <td>4288.0</td>\n",
       "      <td>3396.0</td>\n",
       "      <td>1727960.0</td>\n",
       "    </tr>\n",
       "    <tr>\n",
       "      <th>4</th>\n",
       "      <td>2016-05</td>\n",
       "      <td>10515.0</td>\n",
       "      <td>6649.0</td>\n",
       "      <td>2400.0</td>\n",
       "      <td>1295.0</td>\n",
       "      <td>1061.0</td>\n",
       "      <td>3047.0</td>\n",
       "      <td>36.0</td>\n",
       "      <td>2151.0</td>\n",
       "      <td>2126.0</td>\n",
       "      <td>...</td>\n",
       "      <td>5.0</td>\n",
       "      <td>1673.0</td>\n",
       "      <td>2741.0</td>\n",
       "      <td>348.0</td>\n",
       "      <td>101.0</td>\n",
       "      <td>4200.0</td>\n",
       "      <td>56.0</td>\n",
       "      <td>3201.0</td>\n",
       "      <td>7989.0</td>\n",
       "      <td>1940369.0</td>\n",
       "    </tr>\n",
       "  </tbody>\n",
       "</table>\n",
       "<p>5 rows × 433 columns</p>\n",
       "</div>"
      ],
      "text/plain": [
       "     Month  Adam_Kinzinger  Adam_Schiff  Adam_Smith_(politician)  \\\n",
       "0  2016-01          8169.0       4703.0                   2587.0   \n",
       "1  2016-02          8125.0       4105.0                   2627.0   \n",
       "2  2016-03         12940.0       5578.0                   3012.0   \n",
       "3  2016-04          6579.0       6541.0                   2712.0   \n",
       "4  2016-05         10515.0       6649.0                   2400.0   \n",
       "\n",
       "   Adrian_Smith_(politician)  Adriano_Espaillat  Al_Green_(politician)  \\\n",
       "0                     1187.0             1000.0                 2568.0   \n",
       "1                     1226.0              901.0                 3326.0   \n",
       "2                     1354.0              987.0                 2853.0   \n",
       "3                     1368.0             1296.0                 4527.0   \n",
       "4                     1295.0             1061.0                 3047.0   \n",
       "\n",
       "   Al_Lawson  Alan_Lowenthal  Albio_Sires    ...      \\\n",
       "0       44.0          1550.0       1791.0    ...       \n",
       "1       27.0          1708.0       2042.0    ...       \n",
       "2       34.0          2245.0       2663.0    ...       \n",
       "3       30.0          2164.0       2348.0    ...       \n",
       "4       36.0          2151.0       2126.0    ...       \n",
       "\n",
       "   Vicente_González_(politician)  Vicky_Hartzler  Virginia_Foxx  Walter_Jones  \\\n",
       "0                            0.0          1854.0         2589.0         490.0   \n",
       "1                            0.0          1690.0         2757.0         520.0   \n",
       "2                           17.0          2196.0         3316.0         364.0   \n",
       "3                            3.0          2024.0         2916.0         441.0   \n",
       "4                            5.0          1673.0         2741.0         348.0   \n",
       "\n",
       "   Warren_Davidson  Will_Hurd  William_Clay  Yvette_Clarke  Zoe_Lofgren  \\\n",
       "0              0.0     4024.0          61.0         2825.0       2674.0   \n",
       "1              0.0     5356.0          66.0         3622.0       3155.0   \n",
       "2            114.0     5932.0          62.0         3867.0       3663.0   \n",
       "3             32.0     3452.0          70.0         4288.0       3396.0   \n",
       "4            101.0     4200.0          56.0         3201.0       7989.0   \n",
       "\n",
       "   view sums  \n",
       "0  1608732.0  \n",
       "1  1918133.0  \n",
       "2  2131159.0  \n",
       "3  1727960.0  \n",
       "4  1940369.0  \n",
       "\n",
       "[5 rows x 433 columns]"
      ]
     },
     "execution_count": 54,
     "metadata": {},
     "output_type": "execute_result"
    }
   ],
   "source": [
    "house_columns = list(house)\n",
    "house_columns = [i for i in house_columns if i != 'Month']\n",
    "house_columns\n",
    "house_pd.head()\n"
   ]
  },
  {
   "cell_type": "code",
   "execution_count": 52,
   "metadata": {},
   "outputs": [
    {
     "ename": "ValueError",
     "evalue": "The column \"view sums\" is not in the table. The table contains these columns: Month, Adam_Kinzinger, Adam_Schiff, Adam_Smith_(politician), Adrian_Smith_(politician), Adriano_Espaillat, Al_Green_(politician), Al_Lawson, Alan_Lowenthal, Albio_Sires, Alcee_Hastings, Alex_Mooney, Alma_Adams, Ami_Bera, André_Carson, Andy_Barr_(U.S._politician), Andy_Biggs_(politician), Andy_Harris, Ann_McLane_Kuster, Ann_Wagner, Anna_Eshoo, Anthony_G._Brown, Austin_Scott_(politician), Barbara_Comstock, Barbara_Lee, Barry_Loudermilk, Ben_Luján, Bennie_Thompson, Beto_O'Rourke, Betty_McCollum, Bill_Flores, Bill_Foster_(politician), Bill_Huizenga, Bill_Johnson_(Ohio_politician), Bill_Keating_(politician), Bill_Pascrell, Bill_Posey, Bill_Shuster, Billy_Long, Blaine_Luetkemeyer, Blake_Farenthold, Bob_Brady, Bob_Gibbs, Bob_Goodlatte, Bob_Latta, Bobby_Rush, Bobby_Scott_(politician), Bonnie_Watson_Coleman, Brad_Schneider, Brad_Sherman, Brad_Wenstrup, Bradley_Byrne, Brenda_Lawrence, Brendan_F._Boyle, Brett_Guthrie, Brian_Babin, Brian_Fitzpatrick_(American_politician), Brian_Higgins, Brian_Mast, Bruce_Poliquin, Bruce_Westerman, Buddy_Carter, Carlos_Curbelo_(politician), Carol_Shea-Porter, Carolyn_Maloney, Cathy_McMorris_Rodgers, Cedric_Richmond, Charlie_Crist, Charlie_Dent, Chellie_Pingree, Cheri_Bustos, Chris_Collins_(U.S._politician), Chris_Smith_(New_Jersey_politician), Chris_Stewart_(politician), Chuck_Fleischmann, Claudia_Tenney, Clay_Higgins, Colleen_Hanabusa, Collin_Peterson, Dan_Donovan_(politician), Dan_Kildee, Dan_Lipinski, Dan_Newhouse, Dana_Rohrabacher, Daniel_Webster_(Florida_politician), Danny_K._Davis, Darin_LaHood, Darrell_Issa, Darren_Soto, Dave_Brat, Dave_Loebsack, Dave_Reichert, David_Cicilline, David_Joyce_(politician), David_Kustoff, David_McKinley, David_Price_(U.S._politician), David_Rouzer, David_Schweikert, David_Scott_(Georgia_politician), David_Trott, David_Valadao, David_Young_(Iowa_politician), Debbie_Dingell, Debbie_Wasserman_Schultz, Dennis_Heck, Dennis_Ross, Derek_Kilmer, Devin_Nunes, Diana_DeGette, Diane_Black, Dina_Titus, Don_Bacon_(politician), Don_Beyer, Don_Young, Donald_McEachin, Donald_Norcross, Donald_Payne,_Jr., Doris_Matsui, Doug_Collins_(politician), Doug_LaMalfa, Doug_Lamborn, Drew_Ferguson_(politician), Duncan_D._Hunter, Dutch_Ruppersberger, Dwight_Evans_(politician), Earl_Blumenauer, Ed_Perlmutter, Ed_Royce, Eddie_Johnson, Elijah_Cummings, Eliot_Engel, Elise_Stefanik, Elizabeth_Esty, Emanuel_Cleaver, Eric_Swalwell, Erik_Paulsen, Evan_Jenkins_(politician), Filemon_Vela,_Jr., Francis_Rooney, Frank_LoBiondo, Frank_Lucas_(Oklahoma_politician), Frank_Pallone, Fred_Upton, Frederica_Wilson, French_Hill_(politician), G._K._Butterfield, Garret_Graves, Gary_Palmer_(politician), Gene_Green, George_Holding, Gerry_Connolly, Glenn_Grothman, Glenn_Thompson_(politician), Grace_Meng, Grace_Napolitano, Greg_Walden, Gregg_Harper, Gregory_Meeks, Gus_Bilirakis, Gwen_Moore, Hakeem_Jeffries, Hal_Rogers, Hank_Johnson, Henry_Cuellar, Ileana_Ros-Lehtinen, Jack_Bergman, Jackie_Speier, Jackie_Walorski, Jacky_Rosen, Jaime_Herrera_Beutler, James_Comer_(politician), Jamie_Raskin, Jan_Schakowsky, Jared_Huffman, Jared_Polis, Jason_Chaffetz, Jason_Lewis_(congressman), Jason_T._Smith, Jeb_Hensarling, Jeff_Denham, Jeff_Duncan_(politician), Jeff_Fortenberry, Jerrold_Nadler, Jerry_McNerney, Jim_Banks, Jim_Bridenstine, Jim_Clyburn, Jim_Cooper, Jim_Costa, Jim_Himes, Jim_Jordan_(U.S._politician), Jim_Langevin, Jim_McGovern_(U.S._politician), Jim_Renacci, Jim_Sensenbrenner, Jimmy_Duncan_(U.S._politician), Jimmy_Panetta, Joaquín_Castro, Jodey_Arrington, Jody_Hice, Joe_Barton, Joe_Courtney_(politician), Joe_Kennedy, Joe_Wilson_(U.S._politician), John_B._Larson, John_Carter_(Texas_politician), John_Conyers, John_Culberson, John_Delaney, John_Faso, John_Garamendi, John_Katko, John_Lewis_(civil_rights_leader), John_Moolenaar, John_Ratcliffe_(American_politician), John_Rutherford_(Florida_politician), John_Sarbanes, John_Shimkus, John_Yarmuth, Joseph_Crowley, Josh_Gottheimer, José_Serrano, Joyce_Beatty, Juan_Vargas, Judy_Chu, Julia_Brownley, Justin_Amash, Karen_Bass, Katherine_Clark, Kathleen_Rice, Kathy_Castor, Kay_Granger, Keith_Ellison, Keith_Rothfus, Ken_Buck, Ken_Calvert, Kenny_Marchant, Kevin_Brady, Kevin_Cramer, Kevin_McCarthy_(California_politician), Kevin_Yoder, Kristi_Noem, Kurt_Schrader, Kyrsten_Sinema, Lamar_S._Smith, Larry_Bucshon, Lee_Zeldin, Leonard_Lance, Linda_Sánchez, Lisa_Blunt_Rochester, Liz_Cheney, Lloyd_Doggett, Lloyd_Smucker, Lois_Frankel, Lou_Barletta, Lou_Correa, Louie_Gohmert, Louise_Slaughter, Lucille_Roybal-Allard, Luis_Gutiérrez, Luke_Messer, Lynn_Jenkins, Mac_Thornberry, Marc_Veasey, Marcia_Fudge, Marcy_Kaptur, Mario_Díaz-Balart, Mark_Amodei, Mark_DeSaulnier, Mark_Meadows_(North_Carolina_politician), Mark_Pocan, Mark_Sanford, Mark_Takano, Mark_Walker_(North_Carolina_politician), Markwayne_Mullin, Marsha_Blackburn, Martha_McSally, Martha_Roby, Matt_Cartwright, Matt_Gaetz, Maxine_Waters, Mia_Love, Michael_Burgess, Michael_Doyle, Michael_McCaul, Michelle_Lujan_Grisham, Mike_Bishop_(politician), Mike_Bost, Mike_Capuano, Mike_Coffman, Mike_Conaway, Mike_Gallagher_(American_politician), Mike_Johnson_(Louisiana_politician), Mike_Kelly_(Pennsylvania_politician), Mike_Quigley_(politician), Mike_Rogers, Mike_Simpson, Mike_Thompson_(California_politician), Mike_Turner, Mimi_Walters, Mo_Brooks, Morgan_Griffith, Nancy_Pelosi, Nanette_Barragán, Neal_Dunn, Niki_Tsongas, Nita_Lowey, Norma_Torres, Nydia_Velázquez, Pat_Meehan, Pat_Tiberi, Patrick_McHenry, Paul_Cook_(politician), Paul_Gosar, Paul_Mitchell_(politician), Paul_Ryan, Paul_Tonko, Pete_Aguilar, Pete_Olson, Pete_Sessions, Pete_Visclosky, Peter_DeFazio, Peter_King, Peter_Roskam, Peter_Welch, Phil_Roe_(politician), Pramila_Jayapal, Raja_Krishnamoorthi, Ralph_Abraham_(politician), Randy_Hultgren, Randy_Weber, Raul_Ruiz_(politician), Raúl_Grijalva, Raúl_Labrador, Richard_Hudson_(U.S._politician), Richard_Neal, Rick_Crawford_(politician), Rick_Larsen, Rick_Nolan, Rick_W._Allen, Ro_Khanna, Rob_Bishop, Rob_Wittman, Rob_Woodall, Robert_Aderholt, Robert_Pittenger, Robin_Kelly, Rod_Blum, Rodney_Davis, Rodney_Frelinghuysen, Roger_Marshall_(politician), Roger_Williams_(U.S._politician), Ron_DeSantis, Ron_Kind, Rosa_DeLauro, Ruben_Gallego, Ruben_Kihuen, Ryan_Costello, Salud_Carbajal, Sam_Graves, Sam_Johnson, Sander_Levin, Sanford_Bishop, Scott_DesJarlais, Scott_Perry_(politician), Scott_Peters_(politician), Scott_Taylor_(politician), Scott_Tipton, Sean_Duffy, Sean_Patrick_Maloney, Seth_Moulton, Sheila_Jackson_Lee, Steny_Hoyer, Stephanie_Murphy, Stephen_F._Lynch, Steve_Chabot, Steve_Cohen, Steve_King, Steve_Knight_(politician), Steve_Pearce_(politician), Steve_Russell_(politician), Steve_Scalise, Steve_Stivers, Steve_Womack, Steven_Palazzo, Susan_Brooks, Susan_Davis_(politician), Suzan_DelBene, Suzanne_Bonamici, Ted_Budd, Ted_Deutch, Ted_Lieu, Ted_Poe, Ted_Yoho, Terri_Sewell, Thomas_Garrett,_Jr., Thomas_Massie, Thomas_Suozzi, Tim_Ryan_(politician), Tim_Walberg, Tim_Walz, Timothy_F._Murphy, Todd_Rokita, Tom_Cole, Tom_Emmer, Tom_Graves, Tom_MacArthur, Tom_Marino, Tom_McClintock, Tom_O'Halleran, Tom_Price_(U.S._politician), Tom_Reed_(politician), Tom_Rice, Tom_Rooney_(politician), Tony_Cárdenas, Trent_Franks, Trent_Kelly, Trey_Gowdy, Trey_Hollingsworth, Tulsi_Gabbard, Val_Demings, Vern_Buchanan, Vicente_González_(politician), Vicky_Hartzler, Virginia_Foxx, Walter_Jones, Warren_Davidson, Will_Hurd, William_Clay, Yvette_Clarke, Zoe_Lofgren",
     "output_type": "error",
     "traceback": [
      "\u001b[0;31m---------------------------------------------------------------------------\u001b[0m",
      "\u001b[0;31mValueError\u001b[0m                                Traceback (most recent call last)",
      "\u001b[0;32m<ipython-input-52-b9b40988f733>\u001b[0m in \u001b[0;36m<module>\u001b[0;34m()\u001b[0m\n\u001b[1;32m      7\u001b[0m \u001b[0;34m\u001b[0m\u001b[0m\n\u001b[1;32m      8\u001b[0m \u001b[0msum_frame_by_column\u001b[0m\u001b[0;34m(\u001b[0m\u001b[0mhouse_pd\u001b[0m\u001b[0;34m,\u001b[0m\u001b[0;34m\"view sums\"\u001b[0m\u001b[0;34m,\u001b[0m \u001b[0mhouse_columns\u001b[0m\u001b[0;34m)\u001b[0m\u001b[0;34m\u001b[0m\u001b[0m\n\u001b[0;32m----> 9\u001b[0;31m \u001b[0mhouse_pd\u001b[0m\u001b[0;34m[\u001b[0m\u001b[0;34m'view sums'\u001b[0m\u001b[0;34m]\u001b[0m \u001b[0;34m=\u001b[0m \u001b[0mhouse\u001b[0m\u001b[0;34m[\u001b[0m\u001b[0;34m'view sums'\u001b[0m\u001b[0;34m]\u001b[0m\u001b[0;34m\u001b[0m\u001b[0m\n\u001b[0m",
      "\u001b[0;32m/anaconda3/lib/python3.6/site-packages/datascience/tables.py\u001b[0m in \u001b[0;36m__getitem__\u001b[0;34m(self, index_or_label)\u001b[0m\n\u001b[1;32m    166\u001b[0m \u001b[0;34m\u001b[0m\u001b[0m\n\u001b[1;32m    167\u001b[0m     \u001b[0;32mdef\u001b[0m \u001b[0m__getitem__\u001b[0m\u001b[0;34m(\u001b[0m\u001b[0mself\u001b[0m\u001b[0;34m,\u001b[0m \u001b[0mindex_or_label\u001b[0m\u001b[0;34m)\u001b[0m\u001b[0;34m:\u001b[0m\u001b[0;34m\u001b[0m\u001b[0m\n\u001b[0;32m--> 168\u001b[0;31m         \u001b[0;32mreturn\u001b[0m \u001b[0mself\u001b[0m\u001b[0;34m.\u001b[0m\u001b[0mcolumn\u001b[0m\u001b[0;34m(\u001b[0m\u001b[0mindex_or_label\u001b[0m\u001b[0;34m)\u001b[0m\u001b[0;34m\u001b[0m\u001b[0m\n\u001b[0m\u001b[1;32m    169\u001b[0m \u001b[0;34m\u001b[0m\u001b[0m\n\u001b[1;32m    170\u001b[0m     \u001b[0;32mdef\u001b[0m \u001b[0m__setitem__\u001b[0m\u001b[0;34m(\u001b[0m\u001b[0mself\u001b[0m\u001b[0;34m,\u001b[0m \u001b[0mindex_or_label\u001b[0m\u001b[0;34m,\u001b[0m \u001b[0mvalues\u001b[0m\u001b[0;34m)\u001b[0m\u001b[0;34m:\u001b[0m\u001b[0;34m\u001b[0m\u001b[0m\n",
      "\u001b[0;32m/anaconda3/lib/python3.6/site-packages/datascience/tables.py\u001b[0m in \u001b[0;36mcolumn\u001b[0;34m(self, index_or_label)\u001b[0m\n\u001b[1;32m    273\u001b[0m                 \u001b[0;34m'The column \"{}\" is not in the table. The table contains '\u001b[0m\u001b[0;34m\u001b[0m\u001b[0m\n\u001b[1;32m    274\u001b[0m                 \u001b[0;34m'these columns: {}'\u001b[0m\u001b[0;34m\u001b[0m\u001b[0m\n\u001b[0;32m--> 275\u001b[0;31m                 \u001b[0;34m.\u001b[0m\u001b[0mformat\u001b[0m\u001b[0;34m(\u001b[0m\u001b[0mindex_or_label\u001b[0m\u001b[0;34m,\u001b[0m \u001b[0;34m', '\u001b[0m\u001b[0;34m.\u001b[0m\u001b[0mjoin\u001b[0m\u001b[0;34m(\u001b[0m\u001b[0mself\u001b[0m\u001b[0;34m.\u001b[0m\u001b[0mlabels\u001b[0m\u001b[0;34m)\u001b[0m\u001b[0;34m)\u001b[0m\u001b[0;34m\u001b[0m\u001b[0m\n\u001b[0m\u001b[1;32m    276\u001b[0m             )\n\u001b[1;32m    277\u001b[0m         if (isinstance(index_or_label, int)\n",
      "\u001b[0;31mValueError\u001b[0m: The column \"view sums\" is not in the table. The table contains these columns: Month, Adam_Kinzinger, Adam_Schiff, Adam_Smith_(politician), Adrian_Smith_(politician), Adriano_Espaillat, Al_Green_(politician), Al_Lawson, Alan_Lowenthal, Albio_Sires, Alcee_Hastings, Alex_Mooney, Alma_Adams, Ami_Bera, André_Carson, Andy_Barr_(U.S._politician), Andy_Biggs_(politician), Andy_Harris, Ann_McLane_Kuster, Ann_Wagner, Anna_Eshoo, Anthony_G._Brown, Austin_Scott_(politician), Barbara_Comstock, Barbara_Lee, Barry_Loudermilk, Ben_Luján, Bennie_Thompson, Beto_O'Rourke, Betty_McCollum, Bill_Flores, Bill_Foster_(politician), Bill_Huizenga, Bill_Johnson_(Ohio_politician), Bill_Keating_(politician), Bill_Pascrell, Bill_Posey, Bill_Shuster, Billy_Long, Blaine_Luetkemeyer, Blake_Farenthold, Bob_Brady, Bob_Gibbs, Bob_Goodlatte, Bob_Latta, Bobby_Rush, Bobby_Scott_(politician), Bonnie_Watson_Coleman, Brad_Schneider, Brad_Sherman, Brad_Wenstrup, Bradley_Byrne, Brenda_Lawrence, Brendan_F._Boyle, Brett_Guthrie, Brian_Babin, Brian_Fitzpatrick_(American_politician), Brian_Higgins, Brian_Mast, Bruce_Poliquin, Bruce_Westerman, Buddy_Carter, Carlos_Curbelo_(politician), Carol_Shea-Porter, Carolyn_Maloney, Cathy_McMorris_Rodgers, Cedric_Richmond, Charlie_Crist, Charlie_Dent, Chellie_Pingree, Cheri_Bustos, Chris_Collins_(U.S._politician), Chris_Smith_(New_Jersey_politician), Chris_Stewart_(politician), Chuck_Fleischmann, Claudia_Tenney, Clay_Higgins, Colleen_Hanabusa, Collin_Peterson, Dan_Donovan_(politician), Dan_Kildee, Dan_Lipinski, Dan_Newhouse, Dana_Rohrabacher, Daniel_Webster_(Florida_politician), Danny_K._Davis, Darin_LaHood, Darrell_Issa, Darren_Soto, Dave_Brat, Dave_Loebsack, Dave_Reichert, David_Cicilline, David_Joyce_(politician), David_Kustoff, David_McKinley, David_Price_(U.S._politician), David_Rouzer, David_Schweikert, David_Scott_(Georgia_politician), David_Trott, David_Valadao, David_Young_(Iowa_politician), Debbie_Dingell, Debbie_Wasserman_Schultz, Dennis_Heck, Dennis_Ross, Derek_Kilmer, Devin_Nunes, Diana_DeGette, Diane_Black, Dina_Titus, Don_Bacon_(politician), Don_Beyer, Don_Young, Donald_McEachin, Donald_Norcross, Donald_Payne,_Jr., Doris_Matsui, Doug_Collins_(politician), Doug_LaMalfa, Doug_Lamborn, Drew_Ferguson_(politician), Duncan_D._Hunter, Dutch_Ruppersberger, Dwight_Evans_(politician), Earl_Blumenauer, Ed_Perlmutter, Ed_Royce, Eddie_Johnson, Elijah_Cummings, Eliot_Engel, Elise_Stefanik, Elizabeth_Esty, Emanuel_Cleaver, Eric_Swalwell, Erik_Paulsen, Evan_Jenkins_(politician), Filemon_Vela,_Jr., Francis_Rooney, Frank_LoBiondo, Frank_Lucas_(Oklahoma_politician), Frank_Pallone, Fred_Upton, Frederica_Wilson, French_Hill_(politician), G._K._Butterfield, Garret_Graves, Gary_Palmer_(politician), Gene_Green, George_Holding, Gerry_Connolly, Glenn_Grothman, Glenn_Thompson_(politician), Grace_Meng, Grace_Napolitano, Greg_Walden, Gregg_Harper, Gregory_Meeks, Gus_Bilirakis, Gwen_Moore, Hakeem_Jeffries, Hal_Rogers, Hank_Johnson, Henry_Cuellar, Ileana_Ros-Lehtinen, Jack_Bergman, Jackie_Speier, Jackie_Walorski, Jacky_Rosen, Jaime_Herrera_Beutler, James_Comer_(politician), Jamie_Raskin, Jan_Schakowsky, Jared_Huffman, Jared_Polis, Jason_Chaffetz, Jason_Lewis_(congressman), Jason_T._Smith, Jeb_Hensarling, Jeff_Denham, Jeff_Duncan_(politician), Jeff_Fortenberry, Jerrold_Nadler, Jerry_McNerney, Jim_Banks, Jim_Bridenstine, Jim_Clyburn, Jim_Cooper, Jim_Costa, Jim_Himes, Jim_Jordan_(U.S._politician), Jim_Langevin, Jim_McGovern_(U.S._politician), Jim_Renacci, Jim_Sensenbrenner, Jimmy_Duncan_(U.S._politician), Jimmy_Panetta, Joaquín_Castro, Jodey_Arrington, Jody_Hice, Joe_Barton, Joe_Courtney_(politician), Joe_Kennedy, Joe_Wilson_(U.S._politician), John_B._Larson, John_Carter_(Texas_politician), John_Conyers, John_Culberson, John_Delaney, John_Faso, John_Garamendi, John_Katko, John_Lewis_(civil_rights_leader), John_Moolenaar, John_Ratcliffe_(American_politician), John_Rutherford_(Florida_politician), John_Sarbanes, John_Shimkus, John_Yarmuth, Joseph_Crowley, Josh_Gottheimer, José_Serrano, Joyce_Beatty, Juan_Vargas, Judy_Chu, Julia_Brownley, Justin_Amash, Karen_Bass, Katherine_Clark, Kathleen_Rice, Kathy_Castor, Kay_Granger, Keith_Ellison, Keith_Rothfus, Ken_Buck, Ken_Calvert, Kenny_Marchant, Kevin_Brady, Kevin_Cramer, Kevin_McCarthy_(California_politician), Kevin_Yoder, Kristi_Noem, Kurt_Schrader, Kyrsten_Sinema, Lamar_S._Smith, Larry_Bucshon, Lee_Zeldin, Leonard_Lance, Linda_Sánchez, Lisa_Blunt_Rochester, Liz_Cheney, Lloyd_Doggett, Lloyd_Smucker, Lois_Frankel, Lou_Barletta, Lou_Correa, Louie_Gohmert, Louise_Slaughter, Lucille_Roybal-Allard, Luis_Gutiérrez, Luke_Messer, Lynn_Jenkins, Mac_Thornberry, Marc_Veasey, Marcia_Fudge, Marcy_Kaptur, Mario_Díaz-Balart, Mark_Amodei, Mark_DeSaulnier, Mark_Meadows_(North_Carolina_politician), Mark_Pocan, Mark_Sanford, Mark_Takano, Mark_Walker_(North_Carolina_politician), Markwayne_Mullin, Marsha_Blackburn, Martha_McSally, Martha_Roby, Matt_Cartwright, Matt_Gaetz, Maxine_Waters, Mia_Love, Michael_Burgess, Michael_Doyle, Michael_McCaul, Michelle_Lujan_Grisham, Mike_Bishop_(politician), Mike_Bost, Mike_Capuano, Mike_Coffman, Mike_Conaway, Mike_Gallagher_(American_politician), Mike_Johnson_(Louisiana_politician), Mike_Kelly_(Pennsylvania_politician), Mike_Quigley_(politician), Mike_Rogers, Mike_Simpson, Mike_Thompson_(California_politician), Mike_Turner, Mimi_Walters, Mo_Brooks, Morgan_Griffith, Nancy_Pelosi, Nanette_Barragán, Neal_Dunn, Niki_Tsongas, Nita_Lowey, Norma_Torres, Nydia_Velázquez, Pat_Meehan, Pat_Tiberi, Patrick_McHenry, Paul_Cook_(politician), Paul_Gosar, Paul_Mitchell_(politician), Paul_Ryan, Paul_Tonko, Pete_Aguilar, Pete_Olson, Pete_Sessions, Pete_Visclosky, Peter_DeFazio, Peter_King, Peter_Roskam, Peter_Welch, Phil_Roe_(politician), Pramila_Jayapal, Raja_Krishnamoorthi, Ralph_Abraham_(politician), Randy_Hultgren, Randy_Weber, Raul_Ruiz_(politician), Raúl_Grijalva, Raúl_Labrador, Richard_Hudson_(U.S._politician), Richard_Neal, Rick_Crawford_(politician), Rick_Larsen, Rick_Nolan, Rick_W._Allen, Ro_Khanna, Rob_Bishop, Rob_Wittman, Rob_Woodall, Robert_Aderholt, Robert_Pittenger, Robin_Kelly, Rod_Blum, Rodney_Davis, Rodney_Frelinghuysen, Roger_Marshall_(politician), Roger_Williams_(U.S._politician), Ron_DeSantis, Ron_Kind, Rosa_DeLauro, Ruben_Gallego, Ruben_Kihuen, Ryan_Costello, Salud_Carbajal, Sam_Graves, Sam_Johnson, Sander_Levin, Sanford_Bishop, Scott_DesJarlais, Scott_Perry_(politician), Scott_Peters_(politician), Scott_Taylor_(politician), Scott_Tipton, Sean_Duffy, Sean_Patrick_Maloney, Seth_Moulton, Sheila_Jackson_Lee, Steny_Hoyer, Stephanie_Murphy, Stephen_F._Lynch, Steve_Chabot, Steve_Cohen, Steve_King, Steve_Knight_(politician), Steve_Pearce_(politician), Steve_Russell_(politician), Steve_Scalise, Steve_Stivers, Steve_Womack, Steven_Palazzo, Susan_Brooks, Susan_Davis_(politician), Suzan_DelBene, Suzanne_Bonamici, Ted_Budd, Ted_Deutch, Ted_Lieu, Ted_Poe, Ted_Yoho, Terri_Sewell, Thomas_Garrett,_Jr., Thomas_Massie, Thomas_Suozzi, Tim_Ryan_(politician), Tim_Walberg, Tim_Walz, Timothy_F._Murphy, Todd_Rokita, Tom_Cole, Tom_Emmer, Tom_Graves, Tom_MacArthur, Tom_Marino, Tom_McClintock, Tom_O'Halleran, Tom_Price_(U.S._politician), Tom_Reed_(politician), Tom_Rice, Tom_Rooney_(politician), Tony_Cárdenas, Trent_Franks, Trent_Kelly, Trey_Gowdy, Trey_Hollingsworth, Tulsi_Gabbard, Val_Demings, Vern_Buchanan, Vicente_González_(politician), Vicky_Hartzler, Virginia_Foxx, Walter_Jones, Warren_Davidson, Will_Hurd, William_Clay, Yvette_Clarke, Zoe_Lofgren"
     ]
    }
   ],
   "source": [
    "def sum_frame_by_column(frame, new_col_name, list_of_cols_to_sum):\n",
    "    frame[new_col_name] = frame[list_of_cols_to_sum].astype(float).sum(axis=1)\n",
    "    return(frame)\n",
    "house_pd = pd.read_csv('house_views.csv')\n",
    "house_pd.head(n=5)\n",
    "\n",
    "\n",
    "sum_frame_by_column(house_pd,\"view sums\", house_columns)\n",
    "house_pd['view sums'] = house['view sums']"
   ]
  },
  {
   "cell_type": "markdown",
   "metadata": {},
   "source": [
    "**Question 2b.** The code below creates a barplot of the number of pageviews over each month in the `house` table. Add code to it to include the following elements:\n",
    "* Title: `Monthly Wikipedia pageviews for U.S. House of Representatives`\n",
    "* $x$ label: `Month`\n",
    "* $y$ label: `Number of pageviews`\n",
    "\n",
    "Also, don't forget the semicolon `;` so that Jupyter doesn't output any text."
   ]
  },
  {
   "cell_type": "code",
   "execution_count": 53,
   "metadata": {},
   "outputs": [
    {
     "ename": "ValueError",
     "evalue": "The column \"view sums\" is not in the table. The table contains these columns: Month, Adam_Kinzinger, Adam_Schiff, Adam_Smith_(politician), Adrian_Smith_(politician), Adriano_Espaillat, Al_Green_(politician), Al_Lawson, Alan_Lowenthal, Albio_Sires, Alcee_Hastings, Alex_Mooney, Alma_Adams, Ami_Bera, André_Carson, Andy_Barr_(U.S._politician), Andy_Biggs_(politician), Andy_Harris, Ann_McLane_Kuster, Ann_Wagner, Anna_Eshoo, Anthony_G._Brown, Austin_Scott_(politician), Barbara_Comstock, Barbara_Lee, Barry_Loudermilk, Ben_Luján, Bennie_Thompson, Beto_O'Rourke, Betty_McCollum, Bill_Flores, Bill_Foster_(politician), Bill_Huizenga, Bill_Johnson_(Ohio_politician), Bill_Keating_(politician), Bill_Pascrell, Bill_Posey, Bill_Shuster, Billy_Long, Blaine_Luetkemeyer, Blake_Farenthold, Bob_Brady, Bob_Gibbs, Bob_Goodlatte, Bob_Latta, Bobby_Rush, Bobby_Scott_(politician), Bonnie_Watson_Coleman, Brad_Schneider, Brad_Sherman, Brad_Wenstrup, Bradley_Byrne, Brenda_Lawrence, Brendan_F._Boyle, Brett_Guthrie, Brian_Babin, Brian_Fitzpatrick_(American_politician), Brian_Higgins, Brian_Mast, Bruce_Poliquin, Bruce_Westerman, Buddy_Carter, Carlos_Curbelo_(politician), Carol_Shea-Porter, Carolyn_Maloney, Cathy_McMorris_Rodgers, Cedric_Richmond, Charlie_Crist, Charlie_Dent, Chellie_Pingree, Cheri_Bustos, Chris_Collins_(U.S._politician), Chris_Smith_(New_Jersey_politician), Chris_Stewart_(politician), Chuck_Fleischmann, Claudia_Tenney, Clay_Higgins, Colleen_Hanabusa, Collin_Peterson, Dan_Donovan_(politician), Dan_Kildee, Dan_Lipinski, Dan_Newhouse, Dana_Rohrabacher, Daniel_Webster_(Florida_politician), Danny_K._Davis, Darin_LaHood, Darrell_Issa, Darren_Soto, Dave_Brat, Dave_Loebsack, Dave_Reichert, David_Cicilline, David_Joyce_(politician), David_Kustoff, David_McKinley, David_Price_(U.S._politician), David_Rouzer, David_Schweikert, David_Scott_(Georgia_politician), David_Trott, David_Valadao, David_Young_(Iowa_politician), Debbie_Dingell, Debbie_Wasserman_Schultz, Dennis_Heck, Dennis_Ross, Derek_Kilmer, Devin_Nunes, Diana_DeGette, Diane_Black, Dina_Titus, Don_Bacon_(politician), Don_Beyer, Don_Young, Donald_McEachin, Donald_Norcross, Donald_Payne,_Jr., Doris_Matsui, Doug_Collins_(politician), Doug_LaMalfa, Doug_Lamborn, Drew_Ferguson_(politician), Duncan_D._Hunter, Dutch_Ruppersberger, Dwight_Evans_(politician), Earl_Blumenauer, Ed_Perlmutter, Ed_Royce, Eddie_Johnson, Elijah_Cummings, Eliot_Engel, Elise_Stefanik, Elizabeth_Esty, Emanuel_Cleaver, Eric_Swalwell, Erik_Paulsen, Evan_Jenkins_(politician), Filemon_Vela,_Jr., Francis_Rooney, Frank_LoBiondo, Frank_Lucas_(Oklahoma_politician), Frank_Pallone, Fred_Upton, Frederica_Wilson, French_Hill_(politician), G._K._Butterfield, Garret_Graves, Gary_Palmer_(politician), Gene_Green, George_Holding, Gerry_Connolly, Glenn_Grothman, Glenn_Thompson_(politician), Grace_Meng, Grace_Napolitano, Greg_Walden, Gregg_Harper, Gregory_Meeks, Gus_Bilirakis, Gwen_Moore, Hakeem_Jeffries, Hal_Rogers, Hank_Johnson, Henry_Cuellar, Ileana_Ros-Lehtinen, Jack_Bergman, Jackie_Speier, Jackie_Walorski, Jacky_Rosen, Jaime_Herrera_Beutler, James_Comer_(politician), Jamie_Raskin, Jan_Schakowsky, Jared_Huffman, Jared_Polis, Jason_Chaffetz, Jason_Lewis_(congressman), Jason_T._Smith, Jeb_Hensarling, Jeff_Denham, Jeff_Duncan_(politician), Jeff_Fortenberry, Jerrold_Nadler, Jerry_McNerney, Jim_Banks, Jim_Bridenstine, Jim_Clyburn, Jim_Cooper, Jim_Costa, Jim_Himes, Jim_Jordan_(U.S._politician), Jim_Langevin, Jim_McGovern_(U.S._politician), Jim_Renacci, Jim_Sensenbrenner, Jimmy_Duncan_(U.S._politician), Jimmy_Panetta, Joaquín_Castro, Jodey_Arrington, Jody_Hice, Joe_Barton, Joe_Courtney_(politician), Joe_Kennedy, Joe_Wilson_(U.S._politician), John_B._Larson, John_Carter_(Texas_politician), John_Conyers, John_Culberson, John_Delaney, John_Faso, John_Garamendi, John_Katko, John_Lewis_(civil_rights_leader), John_Moolenaar, John_Ratcliffe_(American_politician), John_Rutherford_(Florida_politician), John_Sarbanes, John_Shimkus, John_Yarmuth, Joseph_Crowley, Josh_Gottheimer, José_Serrano, Joyce_Beatty, Juan_Vargas, Judy_Chu, Julia_Brownley, Justin_Amash, Karen_Bass, Katherine_Clark, Kathleen_Rice, Kathy_Castor, Kay_Granger, Keith_Ellison, Keith_Rothfus, Ken_Buck, Ken_Calvert, Kenny_Marchant, Kevin_Brady, Kevin_Cramer, Kevin_McCarthy_(California_politician), Kevin_Yoder, Kristi_Noem, Kurt_Schrader, Kyrsten_Sinema, Lamar_S._Smith, Larry_Bucshon, Lee_Zeldin, Leonard_Lance, Linda_Sánchez, Lisa_Blunt_Rochester, Liz_Cheney, Lloyd_Doggett, Lloyd_Smucker, Lois_Frankel, Lou_Barletta, Lou_Correa, Louie_Gohmert, Louise_Slaughter, Lucille_Roybal-Allard, Luis_Gutiérrez, Luke_Messer, Lynn_Jenkins, Mac_Thornberry, Marc_Veasey, Marcia_Fudge, Marcy_Kaptur, Mario_Díaz-Balart, Mark_Amodei, Mark_DeSaulnier, Mark_Meadows_(North_Carolina_politician), Mark_Pocan, Mark_Sanford, Mark_Takano, Mark_Walker_(North_Carolina_politician), Markwayne_Mullin, Marsha_Blackburn, Martha_McSally, Martha_Roby, Matt_Cartwright, Matt_Gaetz, Maxine_Waters, Mia_Love, Michael_Burgess, Michael_Doyle, Michael_McCaul, Michelle_Lujan_Grisham, Mike_Bishop_(politician), Mike_Bost, Mike_Capuano, Mike_Coffman, Mike_Conaway, Mike_Gallagher_(American_politician), Mike_Johnson_(Louisiana_politician), Mike_Kelly_(Pennsylvania_politician), Mike_Quigley_(politician), Mike_Rogers, Mike_Simpson, Mike_Thompson_(California_politician), Mike_Turner, Mimi_Walters, Mo_Brooks, Morgan_Griffith, Nancy_Pelosi, Nanette_Barragán, Neal_Dunn, Niki_Tsongas, Nita_Lowey, Norma_Torres, Nydia_Velázquez, Pat_Meehan, Pat_Tiberi, Patrick_McHenry, Paul_Cook_(politician), Paul_Gosar, Paul_Mitchell_(politician), Paul_Ryan, Paul_Tonko, Pete_Aguilar, Pete_Olson, Pete_Sessions, Pete_Visclosky, Peter_DeFazio, Peter_King, Peter_Roskam, Peter_Welch, Phil_Roe_(politician), Pramila_Jayapal, Raja_Krishnamoorthi, Ralph_Abraham_(politician), Randy_Hultgren, Randy_Weber, Raul_Ruiz_(politician), Raúl_Grijalva, Raúl_Labrador, Richard_Hudson_(U.S._politician), Richard_Neal, Rick_Crawford_(politician), Rick_Larsen, Rick_Nolan, Rick_W._Allen, Ro_Khanna, Rob_Bishop, Rob_Wittman, Rob_Woodall, Robert_Aderholt, Robert_Pittenger, Robin_Kelly, Rod_Blum, Rodney_Davis, Rodney_Frelinghuysen, Roger_Marshall_(politician), Roger_Williams_(U.S._politician), Ron_DeSantis, Ron_Kind, Rosa_DeLauro, Ruben_Gallego, Ruben_Kihuen, Ryan_Costello, Salud_Carbajal, Sam_Graves, Sam_Johnson, Sander_Levin, Sanford_Bishop, Scott_DesJarlais, Scott_Perry_(politician), Scott_Peters_(politician), Scott_Taylor_(politician), Scott_Tipton, Sean_Duffy, Sean_Patrick_Maloney, Seth_Moulton, Sheila_Jackson_Lee, Steny_Hoyer, Stephanie_Murphy, Stephen_F._Lynch, Steve_Chabot, Steve_Cohen, Steve_King, Steve_Knight_(politician), Steve_Pearce_(politician), Steve_Russell_(politician), Steve_Scalise, Steve_Stivers, Steve_Womack, Steven_Palazzo, Susan_Brooks, Susan_Davis_(politician), Suzan_DelBene, Suzanne_Bonamici, Ted_Budd, Ted_Deutch, Ted_Lieu, Ted_Poe, Ted_Yoho, Terri_Sewell, Thomas_Garrett,_Jr., Thomas_Massie, Thomas_Suozzi, Tim_Ryan_(politician), Tim_Walberg, Tim_Walz, Timothy_F._Murphy, Todd_Rokita, Tom_Cole, Tom_Emmer, Tom_Graves, Tom_MacArthur, Tom_Marino, Tom_McClintock, Tom_O'Halleran, Tom_Price_(U.S._politician), Tom_Reed_(politician), Tom_Rice, Tom_Rooney_(politician), Tony_Cárdenas, Trent_Franks, Trent_Kelly, Trey_Gowdy, Trey_Hollingsworth, Tulsi_Gabbard, Val_Demings, Vern_Buchanan, Vicente_González_(politician), Vicky_Hartzler, Virginia_Foxx, Walter_Jones, Warren_Davidson, Will_Hurd, William_Clay, Yvette_Clarke, Zoe_Lofgren",
     "output_type": "error",
     "traceback": [
      "\u001b[0;31m---------------------------------------------------------------------------\u001b[0m",
      "\u001b[0;31mValueError\u001b[0m                                Traceback (most recent call last)",
      "\u001b[0;32m<ipython-input-53-c30b5e7e48bf>\u001b[0m in \u001b[0;36m<module>\u001b[0;34m()\u001b[0m\n\u001b[1;32m      1\u001b[0m \u001b[0mplt\u001b[0m\u001b[0;34m.\u001b[0m\u001b[0mfigure\u001b[0m\u001b[0;34m(\u001b[0m\u001b[0mfigsize\u001b[0m\u001b[0;34m=\u001b[0m\u001b[0;34m[\u001b[0m\u001b[0;36m20\u001b[0m\u001b[0;34m,\u001b[0m \u001b[0;36m10\u001b[0m\u001b[0;34m]\u001b[0m\u001b[0;34m)\u001b[0m\u001b[0;34m\u001b[0m\u001b[0m\n\u001b[0;32m----> 2\u001b[0;31m \u001b[0mplt\u001b[0m\u001b[0;34m.\u001b[0m\u001b[0mbar\u001b[0m\u001b[0;34m(\u001b[0m\u001b[0mhouse\u001b[0m\u001b[0;34m.\u001b[0m\u001b[0mcolumn\u001b[0m\u001b[0;34m(\u001b[0m\u001b[0;34m'Month'\u001b[0m\u001b[0;34m)\u001b[0m\u001b[0;34m,\u001b[0m \u001b[0mhouse\u001b[0m\u001b[0;34m.\u001b[0m\u001b[0mcolumn\u001b[0m\u001b[0;34m(\u001b[0m\u001b[0;34m'view sums'\u001b[0m\u001b[0;34m)\u001b[0m\u001b[0;34m,\u001b[0m \u001b[0mwidth\u001b[0m\u001b[0;34m=\u001b[0m\u001b[0;36m10\u001b[0m\u001b[0;34m)\u001b[0m\u001b[0;34m\u001b[0m\u001b[0m\n\u001b[0m\u001b[1;32m      3\u001b[0m \u001b[0;34m\u001b[0m\u001b[0m\n\u001b[1;32m      4\u001b[0m \u001b[0;34m...\u001b[0m\u001b[0;34m\u001b[0m\u001b[0m\n",
      "\u001b[0;32m/anaconda3/lib/python3.6/site-packages/datascience/tables.py\u001b[0m in \u001b[0;36mcolumn\u001b[0;34m(self, index_or_label)\u001b[0m\n\u001b[1;32m    273\u001b[0m                 \u001b[0;34m'The column \"{}\" is not in the table. The table contains '\u001b[0m\u001b[0;34m\u001b[0m\u001b[0m\n\u001b[1;32m    274\u001b[0m                 \u001b[0;34m'these columns: {}'\u001b[0m\u001b[0;34m\u001b[0m\u001b[0m\n\u001b[0;32m--> 275\u001b[0;31m                 \u001b[0;34m.\u001b[0m\u001b[0mformat\u001b[0m\u001b[0;34m(\u001b[0m\u001b[0mindex_or_label\u001b[0m\u001b[0;34m,\u001b[0m \u001b[0;34m', '\u001b[0m\u001b[0;34m.\u001b[0m\u001b[0mjoin\u001b[0m\u001b[0;34m(\u001b[0m\u001b[0mself\u001b[0m\u001b[0;34m.\u001b[0m\u001b[0mlabels\u001b[0m\u001b[0;34m)\u001b[0m\u001b[0;34m)\u001b[0m\u001b[0;34m\u001b[0m\u001b[0m\n\u001b[0m\u001b[1;32m    276\u001b[0m             )\n\u001b[1;32m    277\u001b[0m         if (isinstance(index_or_label, int)\n",
      "\u001b[0;31mValueError\u001b[0m: The column \"view sums\" is not in the table. The table contains these columns: Month, Adam_Kinzinger, Adam_Schiff, Adam_Smith_(politician), Adrian_Smith_(politician), Adriano_Espaillat, Al_Green_(politician), Al_Lawson, Alan_Lowenthal, Albio_Sires, Alcee_Hastings, Alex_Mooney, Alma_Adams, Ami_Bera, André_Carson, Andy_Barr_(U.S._politician), Andy_Biggs_(politician), Andy_Harris, Ann_McLane_Kuster, Ann_Wagner, Anna_Eshoo, Anthony_G._Brown, Austin_Scott_(politician), Barbara_Comstock, Barbara_Lee, Barry_Loudermilk, Ben_Luján, Bennie_Thompson, Beto_O'Rourke, Betty_McCollum, Bill_Flores, Bill_Foster_(politician), Bill_Huizenga, Bill_Johnson_(Ohio_politician), Bill_Keating_(politician), Bill_Pascrell, Bill_Posey, Bill_Shuster, Billy_Long, Blaine_Luetkemeyer, Blake_Farenthold, Bob_Brady, Bob_Gibbs, Bob_Goodlatte, Bob_Latta, Bobby_Rush, Bobby_Scott_(politician), Bonnie_Watson_Coleman, Brad_Schneider, Brad_Sherman, Brad_Wenstrup, Bradley_Byrne, Brenda_Lawrence, Brendan_F._Boyle, Brett_Guthrie, Brian_Babin, Brian_Fitzpatrick_(American_politician), Brian_Higgins, Brian_Mast, Bruce_Poliquin, Bruce_Westerman, Buddy_Carter, Carlos_Curbelo_(politician), Carol_Shea-Porter, Carolyn_Maloney, Cathy_McMorris_Rodgers, Cedric_Richmond, Charlie_Crist, Charlie_Dent, Chellie_Pingree, Cheri_Bustos, Chris_Collins_(U.S._politician), Chris_Smith_(New_Jersey_politician), Chris_Stewart_(politician), Chuck_Fleischmann, Claudia_Tenney, Clay_Higgins, Colleen_Hanabusa, Collin_Peterson, Dan_Donovan_(politician), Dan_Kildee, Dan_Lipinski, Dan_Newhouse, Dana_Rohrabacher, Daniel_Webster_(Florida_politician), Danny_K._Davis, Darin_LaHood, Darrell_Issa, Darren_Soto, Dave_Brat, Dave_Loebsack, Dave_Reichert, David_Cicilline, David_Joyce_(politician), David_Kustoff, David_McKinley, David_Price_(U.S._politician), David_Rouzer, David_Schweikert, David_Scott_(Georgia_politician), David_Trott, David_Valadao, David_Young_(Iowa_politician), Debbie_Dingell, Debbie_Wasserman_Schultz, Dennis_Heck, Dennis_Ross, Derek_Kilmer, Devin_Nunes, Diana_DeGette, Diane_Black, Dina_Titus, Don_Bacon_(politician), Don_Beyer, Don_Young, Donald_McEachin, Donald_Norcross, Donald_Payne,_Jr., Doris_Matsui, Doug_Collins_(politician), Doug_LaMalfa, Doug_Lamborn, Drew_Ferguson_(politician), Duncan_D._Hunter, Dutch_Ruppersberger, Dwight_Evans_(politician), Earl_Blumenauer, Ed_Perlmutter, Ed_Royce, Eddie_Johnson, Elijah_Cummings, Eliot_Engel, Elise_Stefanik, Elizabeth_Esty, Emanuel_Cleaver, Eric_Swalwell, Erik_Paulsen, Evan_Jenkins_(politician), Filemon_Vela,_Jr., Francis_Rooney, Frank_LoBiondo, Frank_Lucas_(Oklahoma_politician), Frank_Pallone, Fred_Upton, Frederica_Wilson, French_Hill_(politician), G._K._Butterfield, Garret_Graves, Gary_Palmer_(politician), Gene_Green, George_Holding, Gerry_Connolly, Glenn_Grothman, Glenn_Thompson_(politician), Grace_Meng, Grace_Napolitano, Greg_Walden, Gregg_Harper, Gregory_Meeks, Gus_Bilirakis, Gwen_Moore, Hakeem_Jeffries, Hal_Rogers, Hank_Johnson, Henry_Cuellar, Ileana_Ros-Lehtinen, Jack_Bergman, Jackie_Speier, Jackie_Walorski, Jacky_Rosen, Jaime_Herrera_Beutler, James_Comer_(politician), Jamie_Raskin, Jan_Schakowsky, Jared_Huffman, Jared_Polis, Jason_Chaffetz, Jason_Lewis_(congressman), Jason_T._Smith, Jeb_Hensarling, Jeff_Denham, Jeff_Duncan_(politician), Jeff_Fortenberry, Jerrold_Nadler, Jerry_McNerney, Jim_Banks, Jim_Bridenstine, Jim_Clyburn, Jim_Cooper, Jim_Costa, Jim_Himes, Jim_Jordan_(U.S._politician), Jim_Langevin, Jim_McGovern_(U.S._politician), Jim_Renacci, Jim_Sensenbrenner, Jimmy_Duncan_(U.S._politician), Jimmy_Panetta, Joaquín_Castro, Jodey_Arrington, Jody_Hice, Joe_Barton, Joe_Courtney_(politician), Joe_Kennedy, Joe_Wilson_(U.S._politician), John_B._Larson, John_Carter_(Texas_politician), John_Conyers, John_Culberson, John_Delaney, John_Faso, John_Garamendi, John_Katko, John_Lewis_(civil_rights_leader), John_Moolenaar, John_Ratcliffe_(American_politician), John_Rutherford_(Florida_politician), John_Sarbanes, John_Shimkus, John_Yarmuth, Joseph_Crowley, Josh_Gottheimer, José_Serrano, Joyce_Beatty, Juan_Vargas, Judy_Chu, Julia_Brownley, Justin_Amash, Karen_Bass, Katherine_Clark, Kathleen_Rice, Kathy_Castor, Kay_Granger, Keith_Ellison, Keith_Rothfus, Ken_Buck, Ken_Calvert, Kenny_Marchant, Kevin_Brady, Kevin_Cramer, Kevin_McCarthy_(California_politician), Kevin_Yoder, Kristi_Noem, Kurt_Schrader, Kyrsten_Sinema, Lamar_S._Smith, Larry_Bucshon, Lee_Zeldin, Leonard_Lance, Linda_Sánchez, Lisa_Blunt_Rochester, Liz_Cheney, Lloyd_Doggett, Lloyd_Smucker, Lois_Frankel, Lou_Barletta, Lou_Correa, Louie_Gohmert, Louise_Slaughter, Lucille_Roybal-Allard, Luis_Gutiérrez, Luke_Messer, Lynn_Jenkins, Mac_Thornberry, Marc_Veasey, Marcia_Fudge, Marcy_Kaptur, Mario_Díaz-Balart, Mark_Amodei, Mark_DeSaulnier, Mark_Meadows_(North_Carolina_politician), Mark_Pocan, Mark_Sanford, Mark_Takano, Mark_Walker_(North_Carolina_politician), Markwayne_Mullin, Marsha_Blackburn, Martha_McSally, Martha_Roby, Matt_Cartwright, Matt_Gaetz, Maxine_Waters, Mia_Love, Michael_Burgess, Michael_Doyle, Michael_McCaul, Michelle_Lujan_Grisham, Mike_Bishop_(politician), Mike_Bost, Mike_Capuano, Mike_Coffman, Mike_Conaway, Mike_Gallagher_(American_politician), Mike_Johnson_(Louisiana_politician), Mike_Kelly_(Pennsylvania_politician), Mike_Quigley_(politician), Mike_Rogers, Mike_Simpson, Mike_Thompson_(California_politician), Mike_Turner, Mimi_Walters, Mo_Brooks, Morgan_Griffith, Nancy_Pelosi, Nanette_Barragán, Neal_Dunn, Niki_Tsongas, Nita_Lowey, Norma_Torres, Nydia_Velázquez, Pat_Meehan, Pat_Tiberi, Patrick_McHenry, Paul_Cook_(politician), Paul_Gosar, Paul_Mitchell_(politician), Paul_Ryan, Paul_Tonko, Pete_Aguilar, Pete_Olson, Pete_Sessions, Pete_Visclosky, Peter_DeFazio, Peter_King, Peter_Roskam, Peter_Welch, Phil_Roe_(politician), Pramila_Jayapal, Raja_Krishnamoorthi, Ralph_Abraham_(politician), Randy_Hultgren, Randy_Weber, Raul_Ruiz_(politician), Raúl_Grijalva, Raúl_Labrador, Richard_Hudson_(U.S._politician), Richard_Neal, Rick_Crawford_(politician), Rick_Larsen, Rick_Nolan, Rick_W._Allen, Ro_Khanna, Rob_Bishop, Rob_Wittman, Rob_Woodall, Robert_Aderholt, Robert_Pittenger, Robin_Kelly, Rod_Blum, Rodney_Davis, Rodney_Frelinghuysen, Roger_Marshall_(politician), Roger_Williams_(U.S._politician), Ron_DeSantis, Ron_Kind, Rosa_DeLauro, Ruben_Gallego, Ruben_Kihuen, Ryan_Costello, Salud_Carbajal, Sam_Graves, Sam_Johnson, Sander_Levin, Sanford_Bishop, Scott_DesJarlais, Scott_Perry_(politician), Scott_Peters_(politician), Scott_Taylor_(politician), Scott_Tipton, Sean_Duffy, Sean_Patrick_Maloney, Seth_Moulton, Sheila_Jackson_Lee, Steny_Hoyer, Stephanie_Murphy, Stephen_F._Lynch, Steve_Chabot, Steve_Cohen, Steve_King, Steve_Knight_(politician), Steve_Pearce_(politician), Steve_Russell_(politician), Steve_Scalise, Steve_Stivers, Steve_Womack, Steven_Palazzo, Susan_Brooks, Susan_Davis_(politician), Suzan_DelBene, Suzanne_Bonamici, Ted_Budd, Ted_Deutch, Ted_Lieu, Ted_Poe, Ted_Yoho, Terri_Sewell, Thomas_Garrett,_Jr., Thomas_Massie, Thomas_Suozzi, Tim_Ryan_(politician), Tim_Walberg, Tim_Walz, Timothy_F._Murphy, Todd_Rokita, Tom_Cole, Tom_Emmer, Tom_Graves, Tom_MacArthur, Tom_Marino, Tom_McClintock, Tom_O'Halleran, Tom_Price_(U.S._politician), Tom_Reed_(politician), Tom_Rice, Tom_Rooney_(politician), Tony_Cárdenas, Trent_Franks, Trent_Kelly, Trey_Gowdy, Trey_Hollingsworth, Tulsi_Gabbard, Val_Demings, Vern_Buchanan, Vicente_González_(politician), Vicky_Hartzler, Virginia_Foxx, Walter_Jones, Warren_Davidson, Will_Hurd, William_Clay, Yvette_Clarke, Zoe_Lofgren"
     ]
    },
    {
     "data": {
      "text/plain": [
       "<matplotlib.figure.Figure at 0x1a176a8eb8>"
      ]
     },
     "metadata": {},
     "output_type": "display_data"
    }
   ],
   "source": [
    "plt.figure(figsize=[20, 10])\n",
    "plt.bar(house.column('Month'), house.column('view sums'), width=10)\n",
    "\n",
    "..."
   ]
  },
  {
   "cell_type": "markdown",
   "metadata": {},
   "source": [
    "Now we'll do a similar analysis for the `senate` table.\n",
    "\n",
    "**Question 3a.** Iterate over the rows in the `senate` table and store the sum of each row in `row_sums`. Then add a column to `senate` with the values in `row_sums`."
   ]
  },
  {
   "cell_type": "code",
   "execution_count": null,
   "metadata": {
    "collapsed": true
   },
   "outputs": [],
   "source": [
    "..."
   ]
  },
  {
   "cell_type": "markdown",
   "metadata": {},
   "source": [
    "**Question 3b.** Create another barplot, this time for the `senate` table, similar to the one above. Use the same axis labels, but change the title to read `Monthly Wikipedia pageviews for U.S. Senate`. Your plot should look like this:\n",
    "\n",
    "<img src=\"q3b.png\" width=\"1000px\" />"
   ]
  },
  {
   "cell_type": "code",
   "execution_count": null,
   "metadata": {
    "collapsed": true
   },
   "outputs": [],
   "source": [
    "plt.figure(figsize=[20, 10])\n",
    "\n",
    "..."
   ]
  },
  {
   "cell_type": "markdown",
   "metadata": {},
   "source": [
    "Now let's look at aggregates across both houses of Congress. In order to mainpulate the tables in the format that we have them, we need to do some work using `pandas`, a Python library that deals with tables and data manipulation. You should look over the code below and try to understand it, but you don't need to be able to do anything of the sort until you take Data 100."
   ]
  },
  {
   "cell_type": "code",
   "execution_count": null,
   "metadata": {
    "collapsed": true
   },
   "outputs": [],
   "source": [
    "house_df = house.to_df()     # convert house table to pandas dataframe\n",
    "senate_df = senate.to_df()   # convert senate table to pandas dataframe\n",
    "\n",
    "house_t = house_df.transpose()     # take transpose of house dataframe (rows become columns & columns becom rows)\n",
    "senate_t = senate_df.transpose()   # take transpose of house dataframe (rows become columns & columns becom rows)\n",
    "\n",
    "house_t.columns = house_t.loc['Month']     # set columns of house df to the row labeled 'Month'\n",
    "house_t = house_t.iloc[1:]                 # remove the row labeled 'Month' from the df\n",
    "\n",
    "senate_t.columns = senate_t.loc['Month']   # set columns of senate df to the row labeled 'Month'\n",
    "senate_t = senate_t.iloc[1:]               # remove the row labeled 'Month' from the df\n",
    "\n",
    "congress_df = house_t.append(senate_t).reset_index()    # append senate df to end of house df\n",
    "congress_df = congress_df.transpose()                   # take the transpose of the congress df\n",
    "congress_df.columns = congress_df.loc['index']          # set columns to the row labeled 'index'\n",
    "congress_df = congress_df.iloc[1:].reset_index()        # remove the row labeled 'index' and reset the df index\n",
    "congress_df.to_csv('congress_views.csv', index=False)   # export to csv file without the df index\n",
    "\n",
    "congress = Table.read_table('congress_views.csv')                                          # read in congress.csv as Table\n",
    "congress_months = congress.apply(lambda x: dt.datetime.strptime(x, '%Y-%m-%d'), 'Month')   # convert 'Month' column to dt objects\n",
    "congress['Month'] = congress_months                                                        # replace string months with dt months\n",
    "congress.show(5)"
   ]
  },
  {
   "cell_type": "markdown",
   "metadata": {},
   "source": [
    "The `congress` table now contains similar data to the `house` and `senate` tables, but now with 1 column for each representative and senator. We can, therefore, use similar code to create a plot of aggregate views over time.\n",
    "\n",
    "**Question 4a.** Iterate over the rows in the `congress` table and store the sum of each row in `row_sums`. Then add a column to `congress` with the values in `row_sums`."
   ]
  },
  {
   "cell_type": "code",
   "execution_count": null,
   "metadata": {
    "collapsed": true
   },
   "outputs": [],
   "source": [
    "..."
   ]
  },
  {
   "cell_type": "markdown",
   "metadata": {},
   "source": [
    "**Question 4b.** This time, create a line plot for the `congress`, `house`, and `senate` tables (all in the same plot). Use the same axis labels, but change the title to read `Monthly Wikipedia pageviews for U.S. Congress`. Use dashed lines for the `house` and `senate` tables and include a legend in your plot; it should look like this:\n",
    "\n",
    "<img src=\"q4b.png\" width=\"1000px\" />"
   ]
  },
  {
   "cell_type": "code",
   "execution_count": null,
   "metadata": {
    "collapsed": true
   },
   "outputs": [],
   "source": [
    "plt.figure(figsize=[20, 10])\n",
    "\n",
    "..."
   ]
  },
  {
   "cell_type": "markdown",
   "metadata": {},
   "source": [
    "Finally, let's take a look at the distribution of pageviews for all of Congress. In order to get an idea of what the distribution of a variable looks like, we use a histogram. In the below cell, we plot the histogram for you with varying numbers of bins."
   ]
  },
  {
   "cell_type": "code",
   "execution_count": null,
   "metadata": {
    "collapsed": true
   },
   "outputs": [],
   "source": [
    "plt.figure(figsize=[20, 7])\n",
    "\n",
    "plt.suptitle('Histogram of Number of pageviews for Members of U.S. Congress', size=20)\n",
    "\n",
    "plt.subplot(131)\n",
    "plt.hist(congress['view sums'], bins=5)\n",
    "plt.title('5 bins')\n",
    "plt.xlabel('Number of pageviews')\n",
    "\n",
    "plt.subplot(132)\n",
    "plt.hist(congress['view sums'], bins=10)\n",
    "plt.title('10 bins')\n",
    "plt.xlabel('Number of pageviews')\n",
    "\n",
    "plt.subplot(133)\n",
    "plt.hist(congress['view sums'], bins=20)\n",
    "plt.title('20 bins')\n",
    "plt.xlabel('Number of pageviews');"
   ]
  },
  {
   "cell_type": "markdown",
   "metadata": {},
   "source": [
    "**Question 5.** What do you notice about how the distribution changes as we increase the number of bins? Why is this significant?"
   ]
  },
  {
   "cell_type": "markdown",
   "metadata": {},
   "source": [
    "_Type your answer here, replacing this text._"
   ]
  },
  {
   "cell_type": "markdown",
   "metadata": {},
   "source": [
    "## Part 3: Individual Trends\n",
    "Now let's take a look at the trends for a few individual members of Congress. If we wanted to look at trends for one congressperson, say Nancy Pelosi, we could select the columns `Month` and `Nancy_Pelosi` from the `congress` table and make a plot of the pageviews for her Wikipedia page over time:"
   ]
  },
  {
   "cell_type": "code",
   "execution_count": null,
   "metadata": {
    "collapsed": true
   },
   "outputs": [],
   "source": [
    "pelosi = congress.select('Month', 'Nancy_Pelosi')\n",
    "\n",
    "plt.figure(figsize=[20, 10])\n",
    "plt.plot(pelosi['Month'], pelosi['Nancy_Pelosi'])\n",
    "plt.title('Monthly Wikipedia pageviews for Nancy Pelosi')\n",
    "plt.xlabel('Month')\n",
    "plt.ylabel('Number of pageviews');"
   ]
  },
  {
   "cell_type": "markdown",
   "metadata": {},
   "source": [
    "You should see a spike in the plot right around November 2011; thinking about the context, this makes sense, because it was in this month that the Democrats took the House over and Nancy Pelosi was on track to become Speaker of the House.\n",
    "\n",
    "**Question 6.** Choose two legislators in the `congress` table. For each, create a figure with 2 subplots (1 row, 2 columns); the first subplot should contain a line plot of their monthly pageviews and the second should be a histogram of their pageviews. For the lineplot, use a different line style for each plot. For the histogram, make sure you choose a number of bins that reveals important trends in the distribution but which does not result in a hard-to-read or uninformative plot."
   ]
  },
  {
   "cell_type": "code",
   "execution_count": null,
   "metadata": {
    "collapsed": true
   },
   "outputs": [],
   "source": [
    "# 1st Legislator: [PUT THEIR NAME HERE]\n",
    "\n",
    "plt.figure(figsize=[20, 7])\n",
    "\n",
    "..."
   ]
  },
  {
   "cell_type": "code",
   "execution_count": null,
   "metadata": {
    "collapsed": true
   },
   "outputs": [],
   "source": [
    "# 2nd Legislator: [PUT THEIR NAME HERE]\n",
    "\n",
    "plt.figure(figsize=[20, 7])\n",
    "\n",
    "..."
   ]
  },
  {
   "cell_type": "markdown",
   "metadata": {},
   "source": [
    "Data visualization is a powerful tool in many apsects of data science, from data exploration to finished analyses. Mastering `pyplot`, which underlies all plotting libraries in Python, is an important step to being able to make powerful, informative visulatizations. The next step in the process is to start learning about another library, like `seaborn` or `altair`, which make plotting more intuitive and responsive. If you're interested in data visualization, you should definitely take Data 100, as a large part of that course focuses on how to make good graphics using Python tools beyond just `matplotlib`.\n",
    "\n",
    "## Submission\n",
    "To submit this lab, please download this notebook from DataHub and replace the notebook in your Github repository with this notebook. Commit these changes and push them to Github."
   ]
  }
 ],
 "metadata": {
  "kernelspec": {
   "display_name": "Python 3",
   "language": "python",
   "name": "python3"
  },
  "language_info": {
   "codemirror_mode": {
    "name": "ipython",
    "version": 3
   },
   "file_extension": ".py",
   "mimetype": "text/x-python",
   "name": "python",
   "nbconvert_exporter": "python",
   "pygments_lexer": "ipython3",
   "version": "3.6.3"
  }
 },
 "nbformat": 4,
 "nbformat_minor": 2
}
